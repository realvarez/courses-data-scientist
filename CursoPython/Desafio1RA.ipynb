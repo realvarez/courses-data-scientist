{
 "cells": [
  {
   "cell_type": "markdown",
   "id": "d84824aa-7b9b-4e73-b94b-16f89b58e262",
   "metadata": {},
   "source": [
    "# Desafio 1 Python"
   ]
  },
  {
   "cell_type": "markdown",
   "id": "3edfe6d5-fd4e-41bc-97f5-66c4cec92eaf",
   "metadata": {
    "jp-MarkdownHeadingCollapsed": true
   },
   "source": [
    "## EJ 1:  Calculando el salario semanal"
   ]
  },
  {
   "cell_type": "code",
   "execution_count": 6,
   "id": "8bed1900-8c16-4a17-bb7b-48533468d4e7",
   "metadata": {},
   "outputs": [
    {
     "name": "stdin",
     "output_type": "stream",
     "text": [
      "Ingrese ventas realizadas en el periodo:  <<<>\n"
     ]
    },
    {
     "name": "stdout",
     "output_type": "stream",
     "text": [
      "El valor ingresado no puede ser coonvertido a numero\n"
     ]
    }
   ],
   "source": [
    "# Ingresamos un try and except para tomar el error en caso de falla en casteo\n",
    "try:\n",
    "    # Definimos salario base\n",
    "    salario_base = 500\n",
    "    # Consultamos las ventas del periodo al usuario y las casteamos a entero\n",
    "    ventas_periodo = int(input(\"Ingrese ventas realizadas en el periodo: \"))\n",
    "    # Creamos variable porcentaje comision\n",
    "    porcentaje_comision = 0.1\n",
    "    # Calculamos el salario de la comision\n",
    "    salario_comision = int(porcentaje_comision * ventas_periodo)\n",
    "    # Calculamo el salario total\n",
    "    salario_total = salario_base + salario_comision\n",
    "    pprint(f\"El salario total del periodo es: {salario_total}\")\n",
    "except:\n",
    "    # En caso de error en el input, por ejemplo, se ingresara una letra en vez de numero, se imprime mensaje de error de la excepción\n",
    "    print(\"El valor ingresado no puede ser coonvertido a numero\")"
   ]
  },
  {
   "cell_type": "markdown",
   "id": "e5ee5ef9-8612-44b0-b2ad-1ddf17b19aee",
   "metadata": {},
   "source": [
    "## EJ2: Bienvenido a la frutería virtual"
   ]
  },
  {
   "cell_type": "code",
   "execution_count": 73,
   "id": "4dbf04b9-d047-4623-a979-1bee7ab14563",
   "metadata": {},
   "outputs": [
    {
     "name": "stdin",
     "output_type": "stream",
     "text": [
      "Ingrese el nombre de la variable a buscar:  limon\n"
     ]
    },
    {
     "name": "stdout",
     "output_type": "stream",
     "text": [
      "El valor de la limon es 100\n"
     ]
    }
   ],
   "source": [
    "# Definimos diccionario de frutas con valores\n",
    "lista_de_frutas = {\"limon\": 100, \"sandia\": 500, \"melon\": 300}\n",
    "# Consultamos a usuario de fruta a buscar\n",
    "fruta_a_buscar = input(\"Ingrese el nombre de la variable a buscar: \").lower()\n",
    "# Verificamos si la fruta existe dentro del diccionario\n",
    "if lista_de_frutas.get(fruta_a_buscar):\n",
    "    # En caso de existir imprimimos el valor\n",
    "    print(f\"El valor de la {fruta_a_buscar} es {lista_de_frutas.get(fruta_a_buscar)}\")\n",
    "else:\n",
    "    # En otro caso, mensaje de \"no se tiene\"\n",
    "    print(f\"No tenemos {fruta_a_buscar} en este momento, vuelva mañana\")"
   ]
  },
  {
   "cell_type": "markdown",
   "id": "27755e65-070f-4d78-b55b-531aba391de2",
   "metadata": {},
   "source": [
    "## EJ3: Bienvenido al casino"
   ]
  },
  {
   "cell_type": "code",
   "execution_count": 54,
   "id": "757c7210-1762-4909-a504-51f3ae14cc62",
   "metadata": {},
   "outputs": [
    {
     "name": "stdout",
     "output_type": "stream",
     "text": [
      "El valor del dado 1 es: 6\n",
      "El valor del dado 2 es: 5\n",
      "El resultado de su tiro es 11\n"
     ]
    }
   ],
   "source": [
    "# Importamos la biblioteca random\n",
    "import random\n",
    "# usamos el metodo randint de la bbiblioteca random para generar valores aleatorios\n",
    "# les pasamos como argumentos el 1 y el 6 como maximo y minimo\n",
    "dado_1 = random.randint(1, 6)\n",
    "dado_2 = random.randint(1, 6)\n",
    "# Imprimimos el valor de los numeros aleatorios y la suma de estos\n",
    "print(f\"El valor del dado 1 es: {dado_1}\\nEl valor del dado 2 es: {dado_2}\\nEl resultado de su tiro es {dado_1 + dado_2}\")"
   ]
  },
  {
   "cell_type": "markdown",
   "id": "3de54858-81ef-4f16-94d7-7c0b6f1fe762",
   "metadata": {
    "jp-MarkdownHeadingCollapsed": true
   },
   "source": [
    "## Ej4: Calculadora de chocolate"
   ]
  },
  {
   "cell_type": "code",
   "execution_count": 56,
   "id": "27a306c9-70a2-432a-a14d-bf65b0969b58",
   "metadata": {},
   "outputs": [
    {
     "name": "stdin",
     "output_type": "stream",
     "text": [
      "Ingrese el valor maximo de calorias que puede consumir diariamente (Solo se considerarán numeros enteros) 500\n",
      "Ingrese el valor de calorias por chocolate que puede consumir (Solo se considerarán numeros enteros) 100\n"
     ]
    },
    {
     "name": "stdout",
     "output_type": "stream",
     "text": [
      "El maximo de chocolates que puede comer por dia es de 5\n"
     ]
    }
   ],
   "source": [
    "try:\n",
    "    limite_calorias = int(input(\"Ingrese el valor maximo de calorias que puede consumir diariamente (Solo se considerarán numeros enteros)\"))\n",
    "    calorias_por_chocolate = int(input(\"Ingrese el valor de calorias por chocolate que puede consumir (Solo se considerarán numeros enteros)\"))\n",
    "    maximo_de_chocolates = int(limite_calorias/calorias_por_chocolate)\n",
    "    print(f\"El maximo de chocolates que puede comer por dia es de {maximo_de_chocolates}\")\n",
    "except:\n",
    "    # En caso de error en el input, por ejemplo, se ingresara una letra en vez de numero, se imprime mensaje de error de la excepción\n",
    "    print(\"El valor ingresado no puede ser coonvertido a numero\")"
   ]
  }
 ],
 "metadata": {
  "kernelspec": {
   "display_name": "Python 3 (ipykernel)",
   "language": "python",
   "name": "python3"
  },
  "language_info": {
   "codemirror_mode": {
    "name": "ipython",
    "version": 3
   },
   "file_extension": ".py",
   "mimetype": "text/x-python",
   "name": "python",
   "nbconvert_exporter": "python",
   "pygments_lexer": "ipython3",
   "version": "3.11.6"
  }
 },
 "nbformat": 4,
 "nbformat_minor": 5
}
