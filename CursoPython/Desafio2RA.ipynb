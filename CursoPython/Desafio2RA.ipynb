{
 "cells": [
  {
   "cell_type": "markdown",
   "id": "941185e3-5364-4f6a-ae44-78c1ee04474f",
   "metadata": {},
   "source": [
    "# Desafio 2 Python"
   ]
  },
  {
   "cell_type": "markdown",
   "id": "0bc639b7-294d-4ae4-b298-acacbbbcdb4a",
   "metadata": {},
   "source": [
    "## EJ 1: Suma de números pares"
   ]
  },
  {
   "cell_type": "code",
   "execution_count": 63,
   "id": "9d1c7392-5064-4ea3-bf31-8f062fa82390",
   "metadata": {},
   "outputs": [
    {
     "name": "stdout",
     "output_type": "stream",
     "text": [
      "Ingrese dos valores enteros para calcular la suma de los pares entre ellos\n",
      "Si ingresa un valor decimal, solo se considerara la parte entera\n"
     ]
    },
    {
     "name": "stdin",
     "output_type": "stream",
     "text": [
      " 5\n",
      " 1\n"
     ]
    },
    {
     "name": "stdout",
     "output_type": "stream",
     "text": [
      "El resultado de la suma de los pares entre 5 y 1 es 0\n"
     ]
    }
   ],
   "source": [
    "print(\"Ingrese dos valores enteros para calcular la suma de los pares entre ellos\\nSi ingresa un valor decimal, solo se considerara la parte entera\")\n",
    "# Le preguntamos al usuario por dos numeros, los convertimos en enteros\n",
    "try:\n",
    "    numero_1 = int(input())\n",
    "    numero_2 = int(input())\n",
    "\n",
    "    # Generamos el range dependiendo de que numero es menor\n",
    "    if numero_1 < numero_2:\n",
    "        rango = range(numero_1, numero_2)\n",
    "    elif numero_1 > numero_2:\n",
    "        rango = range(numero_2, numero_1)\n",
    "    else:\n",
    "        print(0)\n",
    "        \n",
    "    # Creamos variable para ir guardando la sumatoria\n",
    "    resultado_suma = 0\n",
    "    \n",
    "    # Creamos un ciclo que recorrera desde el numero menor al numero mayor aumentando de uno en uno\n",
    "    # Si el numero es par, lo agrega a la sumatoria\n",
    "    for num in rango:\n",
    "        if num % 2 == 0:\n",
    "            resultado_suma = num + resultado_suma\n",
    "    # retorna el resultado de la operacion\n",
    "    print(f\"El resultado de la suma de los pares entre {numero_1} y {numero_2} es {resultado_suma}\")\n",
    "# Excepcion que se arroja en caso de no poder transformar a entero el valor ingresado\n",
    "except Exception:\n",
    "    print(\"Error, un valor no puede ser transformado a entero\")"
   ]
  },
  {
   "cell_type": "markdown",
   "id": "9ffe0625-c936-4a9e-ba97-3d163436f446",
   "metadata": {},
   "source": [
    "## Ej 2: Calculadora de áreas"
   ]
  },
  {
   "cell_type": "code",
   "execution_count": 60,
   "id": "91f54bc8-5020-4a49-8f5a-e9b053d53d04",
   "metadata": {},
   "outputs": [
    {
     "name": "stdin",
     "output_type": "stream",
     "text": [
      "Inserte el nombre de la figura a seleccionar. Las opciones son: cuadrado, triangulo, circulo  triangulo\n"
     ]
    },
    {
     "name": "stdout",
     "output_type": "stream",
     "text": [
      "Se necesitan 2 medidas: base, altura\n"
     ]
    },
    {
     "name": "stdin",
     "output_type": "stream",
     "text": [
      "Inserte el valor de la medida base:  10\n",
      "Inserte el valor de la medida altura:  10\n"
     ]
    },
    {
     "name": "stdout",
     "output_type": "stream",
     "text": [
      "El area de la figura es 50.0\n"
     ]
    }
   ],
   "source": [
    "# Importamos math y re para utilizarlas mas adelante\n",
    "import math\n",
    "import re\n",
    "\n",
    "# Creamos una funcion para remover los acentos de las palabras\n",
    "def f_remove_accents(old):\n",
    "    new = old.lower()\n",
    "    new = re.sub(r'[àáâãäå]', 'a', new)\n",
    "    new = re.sub(r'[èéêë]', 'e', new)\n",
    "    new = re.sub(r'[ìíîï]', 'i', new)\n",
    "    new = re.sub(r'[òóôõö]', 'o', new)\n",
    "    new = re.sub(r'[ùúûü]', 'u', new)\n",
    "    return new\n",
    "\n",
    "# Creamos un diccionario que como llave tiene el nombre de las figuras de las que se puede calcular el area\n",
    "# Como valor incluye una lista de dos elementos\n",
    "# - Una lista con las medidas necesarias para calcular su area\n",
    "# - una funcion que calcula el area para la figura\n",
    "diccionario_figuras = {\n",
    "    \"cuadrado\": [[\"base\"], lambda base: base * base],\n",
    "    \"triangulo\": [[\"base\", \"altura\"], lambda base, altura: base * altura / 2],\n",
    "    \"circulo\": [[\"radio\"], lambda radio :radio * radio * math.pi] \n",
    "}\n",
    "\n",
    "# Preguntamos al usuario el nombre de la figura a calcular el area, la normalizamos y obtenemos la lista del diccionario anterior que corresponda\n",
    "txt_figura = input(f\"Inserte el nombre de la figura a seleccionar. Las opciones son: {', '.join(diccionario_figuras.keys())} \")\n",
    "\n",
    "figura = diccionario_figuras.get(\n",
    "    f_remove_accents(txt_figura.lower())\n",
    ")\n",
    "\n",
    "# Si el valor obtenido no es nulo \n",
    "if figura:\n",
    "    try:\n",
    "        # Creamos un arreglo para agregar las medidas que inserta el usuario\n",
    "        medidas = []\n",
    "        print(f\"Se necesitan {len(figura[0])} medidas: {', '.join(figura[0])}\")\n",
    "        # Preguntamos las medidas de la figura que contiene la lista, intentamos convertirlas a entero y las guardamos en el arreglo\n",
    "        for medida in figura[0]:\n",
    "            medidas.append(int(input(f\"Inserte el valor de la medida {medida}: \")))\n",
    "        # Obtenemos de figura la funcion guardada y le pasamos el arreglo de valores que se preguntaron al usuario\n",
    "        print(f\"El area de la figura es {figura[1](*medidas)}\")\n",
    "        # Excepcion que se arroja en caso de no poder transformar a entero el valor ingresado\n",
    "    except Exception:\n",
    "        print(\"Error, un valor no puede ser transformado a entero\")\n",
    "# Mensaje de error en caso que no coincida el texto ingresado con una figura\n",
    "else:\n",
    "    print(f\"Error, el nombre {txt_figura} no coincide con ninguna figura soportada\")"
   ]
  },
  {
   "cell_type": "markdown",
   "id": "4cfeaf83-3e5e-40d1-b8ce-0fca61bbc702",
   "metadata": {},
   "source": [
    "## Ej 3: Adivina el número "
   ]
  },
  {
   "cell_type": "code",
   "execution_count": 61,
   "id": "3ad5017a-315b-40e7-8a00-03486386fb1c",
   "metadata": {
    "scrolled": true
   },
   "outputs": [
    {
     "name": "stdout",
     "output_type": "stream",
     "text": [
      "Se a generado un numero aleatorio del 1 al 100, adivina!\n"
     ]
    },
    {
     "name": "stdin",
     "output_type": "stream",
     "text": [
      " 50\n"
     ]
    },
    {
     "name": "stdout",
     "output_type": "stream",
     "text": [
      "Te pasaste, el numero ingresado es mayor al numero buscado\n"
     ]
    },
    {
     "name": "stdin",
     "output_type": "stream",
     "text": [
      " 25\n"
     ]
    },
    {
     "name": "stdout",
     "output_type": "stream",
     "text": [
      "Te quedaste corto, el numero ingresado es menor al numero buscado\n"
     ]
    },
    {
     "name": "stdin",
     "output_type": "stream",
     "text": [
      " 37\n"
     ]
    },
    {
     "name": "stdout",
     "output_type": "stream",
     "text": [
      "Te quedaste corto, el numero ingresado es menor al numero buscado\n"
     ]
    },
    {
     "name": "stdin",
     "output_type": "stream",
     "text": [
      " 43\n"
     ]
    },
    {
     "name": "stdout",
     "output_type": "stream",
     "text": [
      "Te pasaste, el numero ingresado es mayor al numero buscado\n"
     ]
    },
    {
     "name": "stdin",
     "output_type": "stream",
     "text": [
      " 40\n"
     ]
    },
    {
     "name": "stdout",
     "output_type": "stream",
     "text": [
      "Te pasaste, el numero ingresado es mayor al numero buscado\n"
     ]
    },
    {
     "name": "stdin",
     "output_type": "stream",
     "text": [
      " 38\n"
     ]
    },
    {
     "name": "stdout",
     "output_type": "stream",
     "text": [
      "Te quedaste corto, el numero ingresado es menor al numero buscado\n"
     ]
    },
    {
     "name": "stdin",
     "output_type": "stream",
     "text": [
      " 39\n"
     ]
    },
    {
     "name": "stdout",
     "output_type": "stream",
     "text": [
      "En el punto!!\n"
     ]
    }
   ],
   "source": [
    "# Importamos random y generamos un numero aleatorio del 1 al 100\n",
    "import random\n",
    "\n",
    "numero = random.randint(a=1,b=100)\n",
    "print(\"Se a generado un numero aleatorio del 1 al 100, adivina!\")\n",
    "\n",
    "# Repetimos hasta que corte el ciclo\n",
    "while True:\n",
    "    # Preguntamos al usuario por su intento de numero\n",
    "    try:\n",
    "        intento = int(input())\n",
    "    # Dejamos la excepcion en caso de que no se pueda convertir a numero y un salto a la siguiente iteracion\n",
    "    except Exception:\n",
    "        print(\"Error, el valor no puede ser transformado a entero\")\n",
    "        continue\n",
    "    # Evalua el numero enviando mensajes si el numero es mayor o menor\n",
    "    if numero < intento:\n",
    "        print(\"Te pasaste, el numero ingresado es mayor al numero buscado\")\n",
    "    elif numero > intento:\n",
    "        print(\"Te quedaste corto, el numero ingresado es menor al numero buscado\")\n",
    "    # Avisa que le apunto y corta el ciclo\n",
    "    else:\n",
    "        print(\"En el punto!!\")\n",
    "        break\n",
    "             "
   ]
  },
  {
   "cell_type": "markdown",
   "id": "b69c8048-456f-4a40-83f2-00ce5d1d15a4",
   "metadata": {},
   "source": [
    "## EJ 4: Maraton de caracoles!!"
   ]
  },
  {
   "cell_type": "code",
   "execution_count": 53,
   "id": "7496473f-1180-4ac9-8a00-e856e1d43928",
   "metadata": {},
   "outputs": [
    {
     "name": "stdin",
     "output_type": "stream",
     "text": [
      "Ingrese la velocidad de su caracol 10\n"
     ]
    },
    {
     "name": "stdout",
     "output_type": "stream",
     "text": [
      "🐌\n",
      "__________🐌\n",
      "____________________🐌\n",
      "______________________________🐌\n",
      "________________________________________🐌\n",
      "__________________________________________________🐌\n",
      "____________________________________________________________🐌\n",
      "______________________________________________________________________🐌\n",
      "________________________________________________________________________________🐌\n",
      "__________________________________________________________________________________________🐌\n"
     ]
    }
   ],
   "source": [
    "# Preguntamos al usuario por la velocidad del caracol, intentamos convertirlo a entero\n",
    "try:\n",
    "    velocidad = int(input(\"Ingrese la velocidad de su caracol\"))\n",
    "except Exception:\n",
    "    print(\"Error, el valor no puede ser transformado a entero\")            \n",
    "# Inicializamos la posicion como 0\n",
    "posicion = 0\n",
    "# Recorremos hasta que la posicion sea mayor o igual a 100  \n",
    "while posicion < 100:\n",
    "    # Imprimimos _ la cantidad de veces que sea posicion para simular el camino recorrido\n",
    "    print(f\"{posicion*'_'}🐌\")\n",
    "    # sumamos la velocidad a la posicion para mostrarlo como camino avanzado\n",
    "    posicion = posicion + velocidad"
   ]
  }
 ],
 "metadata": {
  "kernelspec": {
   "display_name": "Python 3 (ipykernel)",
   "language": "python",
   "name": "python3"
  },
  "language_info": {
   "codemirror_mode": {
    "name": "ipython",
    "version": 3
   },
   "file_extension": ".py",
   "mimetype": "text/x-python",
   "name": "python",
   "nbconvert_exporter": "python",
   "pygments_lexer": "ipython3",
   "version": "3.11.6"
  }
 },
 "nbformat": 4,
 "nbformat_minor": 5
}
