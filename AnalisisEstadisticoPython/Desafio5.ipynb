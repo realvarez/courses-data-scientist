{
 "cells": [
  {
   "cell_type": "markdown",
   "id": "3ada6431-5982-4d72-af27-6e5535291d94",
   "metadata": {},
   "source": [
    "# Desafio 5"
   ]
  },
  {
   "cell_type": "markdown",
   "id": "a5226705-ca38-4f06-8bcb-284c0ba9b06c",
   "metadata": {},
   "source": [
    "## Pre-desarrollo"
   ]
  },
  {
   "cell_type": "code",
   "execution_count": 68,
   "id": "4f00966e-45c7-4ebc-9668-93bfb85165c7",
   "metadata": {},
   "outputs": [],
   "source": [
    "import pandas as pd\n",
    "import numpy as np\n",
    "import matplotlib.pyplot as plt\n",
    "import scipy.stats as stats\n",
    "import seaborn as sns\n",
    "import statsmodels.api as sm\n",
    "from scipy import stats\n",
    "import missingno as msngo\n",
    "import re"
   ]
  },
  {
   "cell_type": "code",
   "execution_count": 3,
   "id": "d26b128a-82f3-430a-8769-2b5b739707ce",
   "metadata": {},
   "outputs": [],
   "source": [
    "plt.style.use('seaborn-v0_8-whitegrid')\n",
    "plt.rcParams[\"figure.figsize\"] = (10, 6)"
   ]
  },
  {
   "cell_type": "code",
   "execution_count": 11,
   "id": "98f52f3c-0dbe-4889-a428-6eb7e20b731b",
   "metadata": {},
   "outputs": [
    {
     "data": {
      "text/html": [
       "<div>\n",
       "<style scoped>\n",
       "    .dataframe tbody tr th:only-of-type {\n",
       "        vertical-align: middle;\n",
       "    }\n",
       "\n",
       "    .dataframe tbody tr th {\n",
       "        vertical-align: top;\n",
       "    }\n",
       "\n",
       "    .dataframe thead th {\n",
       "        text-align: right;\n",
       "    }\n",
       "</style>\n",
       "<table border=\"1\" class=\"dataframe\">\n",
       "  <thead>\n",
       "    <tr style=\"text-align: right;\">\n",
       "      <th></th>\n",
       "      <th>height</th>\n",
       "      <th>weight</th>\n",
       "      <th>male</th>\n",
       "      <th>earn</th>\n",
       "      <th>earnk</th>\n",
       "      <th>ethnicity</th>\n",
       "      <th>education</th>\n",
       "      <th>mother_education</th>\n",
       "      <th>father_education</th>\n",
       "      <th>walk</th>\n",
       "      <th>exercise</th>\n",
       "      <th>smokenow</th>\n",
       "      <th>tense</th>\n",
       "      <th>angry</th>\n",
       "      <th>age</th>\n",
       "    </tr>\n",
       "  </thead>\n",
       "  <tbody>\n",
       "    <tr>\n",
       "      <th>0</th>\n",
       "      <td>74</td>\n",
       "      <td>210.0</td>\n",
       "      <td>1</td>\n",
       "      <td>50000.0</td>\n",
       "      <td>50.0</td>\n",
       "      <td>White</td>\n",
       "      <td>16.0</td>\n",
       "      <td>16.0</td>\n",
       "      <td>16.0</td>\n",
       "      <td>3</td>\n",
       "      <td>3</td>\n",
       "      <td>2.0</td>\n",
       "      <td>0.0</td>\n",
       "      <td>0.0</td>\n",
       "      <td>45</td>\n",
       "    </tr>\n",
       "    <tr>\n",
       "      <th>1</th>\n",
       "      <td>66</td>\n",
       "      <td>125.0</td>\n",
       "      <td>0</td>\n",
       "      <td>60000.0</td>\n",
       "      <td>60.0</td>\n",
       "      <td>White</td>\n",
       "      <td>16.0</td>\n",
       "      <td>16.0</td>\n",
       "      <td>16.0</td>\n",
       "      <td>6</td>\n",
       "      <td>5</td>\n",
       "      <td>1.0</td>\n",
       "      <td>0.0</td>\n",
       "      <td>0.0</td>\n",
       "      <td>58</td>\n",
       "    </tr>\n",
       "    <tr>\n",
       "      <th>2</th>\n",
       "      <td>64</td>\n",
       "      <td>126.0</td>\n",
       "      <td>0</td>\n",
       "      <td>30000.0</td>\n",
       "      <td>30.0</td>\n",
       "      <td>White</td>\n",
       "      <td>16.0</td>\n",
       "      <td>16.0</td>\n",
       "      <td>16.0</td>\n",
       "      <td>8</td>\n",
       "      <td>1</td>\n",
       "      <td>2.0</td>\n",
       "      <td>1.0</td>\n",
       "      <td>1.0</td>\n",
       "      <td>29</td>\n",
       "    </tr>\n",
       "    <tr>\n",
       "      <th>3</th>\n",
       "      <td>65</td>\n",
       "      <td>200.0</td>\n",
       "      <td>0</td>\n",
       "      <td>25000.0</td>\n",
       "      <td>25.0</td>\n",
       "      <td>White</td>\n",
       "      <td>17.0</td>\n",
       "      <td>17.0</td>\n",
       "      <td>NaN</td>\n",
       "      <td>8</td>\n",
       "      <td>1</td>\n",
       "      <td>2.0</td>\n",
       "      <td>0.0</td>\n",
       "      <td>0.0</td>\n",
       "      <td>57</td>\n",
       "    </tr>\n",
       "    <tr>\n",
       "      <th>4</th>\n",
       "      <td>63</td>\n",
       "      <td>110.0</td>\n",
       "      <td>0</td>\n",
       "      <td>50000.0</td>\n",
       "      <td>50.0</td>\n",
       "      <td>Other</td>\n",
       "      <td>16.0</td>\n",
       "      <td>16.0</td>\n",
       "      <td>16.0</td>\n",
       "      <td>5</td>\n",
       "      <td>6</td>\n",
       "      <td>2.0</td>\n",
       "      <td>0.0</td>\n",
       "      <td>0.0</td>\n",
       "      <td>91</td>\n",
       "    </tr>\n",
       "  </tbody>\n",
       "</table>\n",
       "</div>"
      ],
      "text/plain": [
       "   height  weight  male     earn  earnk ethnicity  education  \\\n",
       "0      74   210.0     1  50000.0   50.0     White       16.0   \n",
       "1      66   125.0     0  60000.0   60.0     White       16.0   \n",
       "2      64   126.0     0  30000.0   30.0     White       16.0   \n",
       "3      65   200.0     0  25000.0   25.0     White       17.0   \n",
       "4      63   110.0     0  50000.0   50.0     Other       16.0   \n",
       "\n",
       "   mother_education  father_education  walk  exercise  smokenow  tense  angry  \\\n",
       "0              16.0              16.0     3         3       2.0    0.0    0.0   \n",
       "1              16.0              16.0     6         5       1.0    0.0    0.0   \n",
       "2              16.0              16.0     8         1       2.0    1.0    1.0   \n",
       "3              17.0               NaN     8         1       2.0    0.0    0.0   \n",
       "4              16.0              16.0     5         6       2.0    0.0    0.0   \n",
       "\n",
       "   age  \n",
       "0   45  \n",
       "1   58  \n",
       "2   29  \n",
       "3   57  \n",
       "4   91  "
      ]
     },
     "execution_count": 11,
     "metadata": {},
     "output_type": "execute_result"
    }
   ],
   "source": [
    "BASE_PATH = './Datos/'\n",
    "EARNINGS_FINELAME = 'earnings.csv'\n",
    "df = pd.read_csv(BASE_PATH+EARNINGS_FINELAME, )\n",
    "df.head()"
   ]
  },
  {
   "cell_type": "markdown",
   "id": "a72e7e2e-9bd1-40e6-a880-cb52b3d98b52",
   "metadata": {},
   "source": [
    "## Desarrollo"
   ]
  },
  {
   "cell_type": "markdown",
   "id": "b11bb458-376b-40ee-9325-25f718711163",
   "metadata": {},
   "source": [
    "### Problema 1\n",
    "Considerando las variables earn, height y age, vamos a suponer que nuestro dataset fuera una población completa. (Prepara los datos adecuadamente)."
   ]
  },
  {
   "cell_type": "markdown",
   "id": "ffeff67b-85b5-43fd-9ffb-80ad752bc1ef",
   "metadata": {},
   "source": [
    "#### A\n",
    ". Realiza 5 pruebas con muestras de tamaño n = 25, en cada caso, con nivel s\r\n",
    "de significancia diferentes pero inferiores a 0,1, para confirmar o rechazar  as\r\n",
    "siguientes hipótesis considerando las alternativas. Crea para ello una fór ula\r\n",
    "que reciba los parámetros adecuados y responda \"con nivel de confianz  del\r\n",
    "...%, se acepta la hipótesis nula/alternaiva\".\r"
   ]
  },
  {
   "cell_type": "code",
   "execution_count": 41,
   "id": "5e9ed88c-9ccb-41ac-a928-fdac452aca95",
   "metadata": {},
   "outputs": [],
   "source": [
    "def make_hipotesis_test_of_media(data, alpha, mu, form, n=25):\n",
    "    confidence = (1-alpha)*100\n",
    "    sample_data = np.random.choice(data, n)\n",
    "    t_stat, p_value = stats.ttest_1samp(sample_data, mu, alternative=form)\n",
    "\n",
    "    results = {\n",
    "        'two-sided': f\"With a confidence level of {confidence}% we can accept the alternative hypothesis (mean is different than {mu})\",\n",
    "        'greater': f\"With a confidence level of {confidence}% we can accept the alternative hypothesis (mean is bigger than {mu})\",\n",
    "        'less': f\"With a confidence level of {confidence}% we can accept the alternative hypothesis (mean is lower than {mu})\",\n",
    "        'reject': f\"With a confidence level of {confidence}% we can accept the null hypothesis (mean is {mu})\"\n",
    "    }\n",
    "    # Revisar si el signo esta bien\n",
    "    if p_value > alpha:\n",
    "        form = 'reject'\n",
    "    print(results.get(form))\n",
    "    print(f\"t_stat: {t_stat}\")\n",
    "    print(f\"p_value: {p_value}\\n\\n\")\n",
    "    "
   ]
  },
  {
   "cell_type": "code",
   "execution_count": 47,
   "id": "f10557e4-ce2e-43b7-980a-ac8f6e39cdb2",
   "metadata": {},
   "outputs": [
    {
     "name": "stdout",
     "output_type": "stream",
     "text": [
      "Evaluating cases for variable : earn\n",
      "With a confidence level of 98.0% we can accept the null hypothesis (mean is 20000)\n",
      "t_stat: 0.5109552329707664\n",
      "p_value: 0.6140508304415906\n",
      "\n",
      "\n",
      "With a confidence level of 91.0% we can accept the alternative hypothesis (mean is different than 35000)\n",
      "t_stat: -1.9750233189766377\n",
      "p_value: 0.05987620889015563\n",
      "\n",
      "\n",
      "With a confidence level of 96.0% we can accept the null hypothesis (mean is 25000)\n",
      "t_stat: -2.773811308766445\n",
      "p_value: 0.9947245809083174\n",
      "\n",
      "\n",
      "With a confidence level of 97.0% we can accept the alternative hypothesis (mean is lower than 32000)\n",
      "t_stat: -4.554961915006445\n",
      "p_value: 6.439000307576084e-05\n",
      "\n",
      "\n",
      "Evaluating cases for variable : height\n",
      "With a confidence level of 95.0% we can accept the alternative hypothesis (mean is different than 55)\n",
      "t_stat: 15.047707141471978\n",
      "p_value: 1.0131168162300782e-13\n",
      "\n",
      "\n",
      "With a confidence level of 93.0% we can accept the null hypothesis (mean is 68)\n",
      "t_stat: -0.696785684263256\n",
      "p_value: 0.49263132364792306\n",
      "\n",
      "\n",
      "With a confidence level of 95.0% we can accept the alternative hypothesis (mean is bigger than 63)\n",
      "t_stat: 7.1066411071677935\n",
      "p_value: 1.2007001593602487e-07\n",
      "\n",
      "\n",
      "With a confidence level of 93.0% we can accept the alternative hypothesis (mean is lower than 70)\n",
      "t_stat: -4.209203994793476\n",
      "p_value: 0.00015508744959148943\n",
      "\n",
      "\n",
      "Evaluating cases for variable : age\n",
      "With a confidence level of 98.0% we can accept the null hypothesis (mean is 44)\n",
      "t_stat: -0.4287228297944264\n",
      "p_value: 0.6719485163676727\n",
      "\n",
      "\n",
      "With a confidence level of 91.0% we can accept the alternative hypothesis (mean is different than 56)\n",
      "t_stat: -4.059844370974483\n",
      "p_value: 0.00045291037350072037\n",
      "\n",
      "\n",
      "With a confidence level of 93.0% we can accept the null hypothesis (mean is 51)\n",
      "t_stat: -0.7661362150304533\n",
      "p_value: 0.7744673154192776\n",
      "\n",
      "\n",
      "With a confidence level of 96.0% we can accept the alternative hypothesis (mean is lower than 62)\n",
      "t_stat: -4.666018736727996\n",
      "p_value: 4.8541587751654965e-05\n",
      "\n",
      "\n"
     ]
    }
   ],
   "source": [
    "cases = {\n",
    "    'earn':[(20000, 'two-sided'), (35000,'two-sided'), (25000, 'greater'), (32000, 'less')],\n",
    "    'height':[(55, 'two-sided'), (68,'two-sided'), (63, 'greater'), (70, 'less')],\n",
    "    'age':[(44, 'two-sided'), (56,'two-sided'), (51, 'greater'), (62, 'less')]\n",
    "}\n",
    "\n",
    "for key, values in cases.items(): \n",
    "    print(\"Evaluating cases for variable :\", key)\n",
    "    for value in values:\n",
    "        alpha = round(np.random.uniform(0.01, 0.1), 2)\n",
    "        make_hipotesis_test_of_media(df[key].dropna(), alpha, value[0], form=value[1])"
   ]
  },
  {
   "cell_type": "markdown",
   "id": "bc2eb04a-1d70-48dd-8815-afb2cf32305b",
   "metadata": {},
   "source": [
    "#### B\n",
    "Calcula la media poblacional para cada variable. ¿Son correctos losresultados obtenidos por tus pruebas?"
   ]
  },
  {
   "cell_type": "code",
   "execution_count": 45,
   "id": "cc75ba52-b0f2-442a-a3f4-3e8c3caf0e4d",
   "metadata": {},
   "outputs": [
    {
     "name": "stdout",
     "output_type": "stream",
     "text": [
      "The mean of earn column is 21147\n"
     ]
    }
   ],
   "source": [
    "print(f\"The mean of earn column is {round(df['earn'].mean())}\") "
   ]
  },
  {
   "cell_type": "markdown",
   "id": "271c8a07-318a-413b-82cc-3499f6108c32",
   "metadata": {},
   "source": [
    "We have the mean of the column is 21147, that why in the first (200000) and third (250000) case accept the null hypothesis, but we said in the fourth case that its lower than 32000"
   ]
  },
  {
   "cell_type": "code",
   "execution_count": 48,
   "id": "b6bdfd69-d0ab-4975-b7b3-c80d6e90ff79",
   "metadata": {},
   "outputs": [
    {
     "name": "stdout",
     "output_type": "stream",
     "text": [
      "The mean of height column is 67\n"
     ]
    }
   ],
   "source": [
    "print(f\"The mean of height column is {round(df['height'].mean())}\") "
   ]
  },
  {
   "cell_type": "markdown",
   "id": "53ff010f-b711-4b44-a299-f618f6845f5b",
   "metadata": {},
   "source": [
    "We have the mean of the height column is 67, in this case accept the second case, similar to 68, we accept that its bigger than 63 and lower tham 70"
   ]
  },
  {
   "cell_type": "code",
   "execution_count": 52,
   "id": "bc9fa667-4adc-4d2a-9947-650245fe0076",
   "metadata": {},
   "outputs": [
    {
     "name": "stdout",
     "output_type": "stream",
     "text": [
      "The mean of age column is 43\n"
     ]
    }
   ],
   "source": [
    "print(f\"The mean of age column is {round(df['age'].mean())}\") "
   ]
  },
  {
   "cell_type": "markdown",
   "id": "e2eb56b9-ba7b-4f48-8353-6c6534c525f2",
   "metadata": {},
   "source": [
    "We have the mean of the age column is 43, in this case accept the first case, similar to 44, we accept that lower than 62, the case of accept that its 51 probably its because the confidence level"
   ]
  },
  {
   "cell_type": "markdown",
   "id": "58bf888e-1db6-4221-ab04-5572d2548e95",
   "metadata": {},
   "source": [
    "### Problema 2\n",
    "Crea una función que estime la proporción de hombres en el dataset, considerando\n",
    "una muestra de 50 individuos, con niveles de significancia de 0,05 y 0,01. Escribe con\n",
    "palabras tus resultados ejecutar la función e interpreta. Compara con la proporción\n",
    "real.\n"
   ]
  },
  {
   "cell_type": "code",
   "execution_count": 75,
   "id": "e6d9382b-60d9-4767-8138-c242ef20b953",
   "metadata": {},
   "outputs": [
    {
     "name": "stdout",
     "output_type": "stream",
     "text": [
      "Quantity of male in the sample data 16\n",
      "The confidence interval is between 0.19775980350081804 and 0.4732284461959264 with a confidence of 97.0%\n",
      "The real proportion of male its 0.3716960352422907\n"
     ]
    }
   ],
   "source": [
    "def estimate_proporcion_in_sample(data, filter_value, alpha_min, alpha_max, n_sample):\n",
    "    real_proportion = len(data[data == filter_value])/len(data)\n",
    "    sample_data = np.random.choice(data, n_sample)\n",
    "    alpha = np.round(np.random.uniform(alpha_min, alpha_max), 2)\n",
    "    confidence = (1-alpha)*100\n",
    "    quantity_filter_sample = len(sample_data[sample_data == filter_value])\n",
    "    confidence_interval = sm.stats.proportion_confint(quantity_filter_sample, n_sample, alpha, method='wilson')\n",
    "    print(f\"Quantity of male in the sample data {quantity_filter_sample}\")\n",
    "    print(f\"The confidence interval is between {confidence_interval[0]} and {confidence_interval[1]} with a confidence of {confidence}%\")\n",
    "    print(f\"The real proportion of male its {real_proportion}\")\n",
    "\n",
    "estimate_proporcion_in_sample(df['male'], 1, 0.01, 0.05, 50)"
   ]
  },
  {
   "cell_type": "markdown",
   "id": "d27f42f1-e5c4-4dcd-8285-ff6234530ba4",
   "metadata": {},
   "source": [
    "We can consider that its correct, the real proportion its inside of the confidence interval"
   ]
  },
  {
   "cell_type": "markdown",
   "id": "e49623c7-8c5f-4f76-8203-754ffd041027",
   "metadata": {},
   "source": [
    "### Problema 3\n",
    "Considerando el dataset como una muestra, verifica si el género (male=1 significa ‘hombre”) influye sobre el sueldo “earn” de las personas. Explica y justifica tu procedimiento."
   ]
  },
  {
   "cell_type": "code",
   "execution_count": 76,
   "id": "6e76fd8f-54f2-4d11-85b9-7e4f524eb7e9",
   "metadata": {},
   "outputs": [],
   "source": [
    "sueldos_h = df[df['male'] == 1][\"earn\"].dropna()\n",
    "sueldos_m = df[df['male'] == 0][\"earn\"].dropna()"
   ]
  },
  {
   "cell_type": "code",
   "execution_count": 78,
   "id": "d06cf410-f822-4c2b-b8f8-bf8b24da04e7",
   "metadata": {},
   "outputs": [
    {
     "name": "stdout",
     "output_type": "stream",
     "text": [
      "Se rechaza hipotesis nula\n",
      "T Stat : 11.86459381795286\n",
      "P_value : 2.7373648004575493e-30\n"
     ]
    }
   ],
   "source": [
    "# realizamos un test de hipotesis para variables independientes\n",
    "t_stat, p_value = stats.ttest_ind(sueldos_h, sueldos_m, equal_var=False)\n",
    "\n",
    "alpha = 0.03\n",
    "\n",
    "if p_value < alpha:\n",
    "    print(\"Se rechaza hipotesis nula\")\n",
    "else:\n",
    "    print(\"No se rechaza la hipotesis nula\")\n",
    "print(f\"T Stat : {t_stat}\")\n",
    "print(f\"P_value : {p_value}\")"
   ]
  },
  {
   "cell_type": "markdown",
   "id": "54c98295-8203-4abb-b58d-488cd893eb61",
   "metadata": {},
   "source": [
    "En otras palabras, se rechaza la influencia en el genero en el sueldo"
   ]
  },
  {
   "cell_type": "code",
   "execution_count": null,
   "id": "5c787cfb-5cd2-4753-a83e-06ac6fed29ee",
   "metadata": {},
   "outputs": [],
   "source": []
  }
 ],
 "metadata": {
  "kernelspec": {
   "display_name": "Python 3 (ipykernel)",
   "language": "python",
   "name": "python3"
  },
  "language_info": {
   "codemirror_mode": {
    "name": "ipython",
    "version": 3
   },
   "file_extension": ".py",
   "mimetype": "text/x-python",
   "name": "python",
   "nbconvert_exporter": "python",
   "pygments_lexer": "ipython3",
   "version": "3.11.6"
  }
 },
 "nbformat": 4,
 "nbformat_minor": 5
}
