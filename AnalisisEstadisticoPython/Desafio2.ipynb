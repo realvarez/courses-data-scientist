{
 "cells": [
  {
   "cell_type": "markdown",
   "id": "71371ab6-555c-4ffa-aa88-f975346f7068",
   "metadata": {},
   "source": [
    "## Lectura de datos"
   ]
  },
  {
   "cell_type": "code",
   "execution_count": 2,
   "id": "cb03daf6-00fe-4334-a842-9dd5e99835c9",
   "metadata": {},
   "outputs": [],
   "source": [
    "import pandas as pd\n",
    "import numpy as np"
   ]
  },
  {
   "cell_type": "code",
   "execution_count": 6,
   "id": "00aa81d6-6887-46ce-b4af-dc9b042e1253",
   "metadata": {},
   "outputs": [
    {
     "data": {
      "text/html": [
       "<div>\n",
       "<style scoped>\n",
       "    .dataframe tbody tr th:only-of-type {\n",
       "        vertical-align: middle;\n",
       "    }\n",
       "\n",
       "    .dataframe tbody tr th {\n",
       "        vertical-align: top;\n",
       "    }\n",
       "\n",
       "    .dataframe thead th {\n",
       "        text-align: right;\n",
       "    }\n",
       "</style>\n",
       "<table border=\"1\" class=\"dataframe\">\n",
       "  <thead>\n",
       "    <tr style=\"text-align: right;\">\n",
       "      <th></th>\n",
       "      <th>team</th>\n",
       "      <th>continent</th>\n",
       "      <th>group</th>\n",
       "      <th>group_pos</th>\n",
       "      <th>cantidad_juegos</th>\n",
       "      <th>juegos_ganados</th>\n",
       "      <th>juegos_empatados</th>\n",
       "      <th>juegos_perdidos</th>\n",
       "      <th>goles_favor</th>\n",
       "      <th>goles_contra</th>\n",
       "      <th>goles_diferencia</th>\n",
       "      <th>puntos</th>\n",
       "      <th>clasificado</th>\n",
       "    </tr>\n",
       "  </thead>\n",
       "  <tbody>\n",
       "    <tr>\n",
       "      <th>0</th>\n",
       "      <td>Brazil</td>\n",
       "      <td>southamerica</td>\n",
       "      <td>A</td>\n",
       "      <td>1</td>\n",
       "      <td>3</td>\n",
       "      <td>2</td>\n",
       "      <td>1</td>\n",
       "      <td>0</td>\n",
       "      <td>7</td>\n",
       "      <td>2</td>\n",
       "      <td>5</td>\n",
       "      <td>7</td>\n",
       "      <td>1</td>\n",
       "    </tr>\n",
       "    <tr>\n",
       "      <th>1</th>\n",
       "      <td>Mexico</td>\n",
       "      <td>northamerica</td>\n",
       "      <td>A</td>\n",
       "      <td>2</td>\n",
       "      <td>3</td>\n",
       "      <td>2</td>\n",
       "      <td>1</td>\n",
       "      <td>0</td>\n",
       "      <td>4</td>\n",
       "      <td>1</td>\n",
       "      <td>3</td>\n",
       "      <td>7</td>\n",
       "      <td>1</td>\n",
       "    </tr>\n",
       "    <tr>\n",
       "      <th>2</th>\n",
       "      <td>Croatia</td>\n",
       "      <td>europe</td>\n",
       "      <td>A</td>\n",
       "      <td>3</td>\n",
       "      <td>3</td>\n",
       "      <td>1</td>\n",
       "      <td>0</td>\n",
       "      <td>2</td>\n",
       "      <td>6</td>\n",
       "      <td>6</td>\n",
       "      <td>0</td>\n",
       "      <td>3</td>\n",
       "      <td>0</td>\n",
       "    </tr>\n",
       "    <tr>\n",
       "      <th>3</th>\n",
       "      <td>Cameroon</td>\n",
       "      <td>africa</td>\n",
       "      <td>A</td>\n",
       "      <td>4</td>\n",
       "      <td>3</td>\n",
       "      <td>0</td>\n",
       "      <td>0</td>\n",
       "      <td>3</td>\n",
       "      <td>1</td>\n",
       "      <td>9</td>\n",
       "      <td>−8</td>\n",
       "      <td>0</td>\n",
       "      <td>0</td>\n",
       "    </tr>\n",
       "    <tr>\n",
       "      <th>4</th>\n",
       "      <td>Netherlands</td>\n",
       "      <td>europe</td>\n",
       "      <td>B</td>\n",
       "      <td>1</td>\n",
       "      <td>3</td>\n",
       "      <td>3</td>\n",
       "      <td>0</td>\n",
       "      <td>0</td>\n",
       "      <td>10</td>\n",
       "      <td>3</td>\n",
       "      <td>7</td>\n",
       "      <td>9</td>\n",
       "      <td>1</td>\n",
       "    </tr>\n",
       "  </tbody>\n",
       "</table>\n",
       "</div>"
      ],
      "text/plain": [
       "          team     continent group  group_pos  cantidad_juegos  \\\n",
       "0       Brazil  southamerica     A          1                3   \n",
       "1       Mexico  northamerica     A          2                3   \n",
       "2      Croatia        europe     A          3                3   \n",
       "3     Cameroon        africa     A          4                3   \n",
       "4  Netherlands        europe     B          1                3   \n",
       "\n",
       "   juegos_ganados  juegos_empatados  juegos_perdidos  goles_favor  \\\n",
       "0               2                 1                0            7   \n",
       "1               2                 1                0            4   \n",
       "2               1                 0                2            6   \n",
       "3               0                 0                3            1   \n",
       "4               3                 0                0           10   \n",
       "\n",
       "   goles_contra goles_diferencia  puntos  clasificado  \n",
       "0             2                5       7            1  \n",
       "1             1                3       7            1  \n",
       "2             6                0       3            0  \n",
       "3             9               −8       0            0  \n",
       "4             3                7       9            1  "
      ]
     },
     "execution_count": 6,
     "metadata": {},
     "output_type": "execute_result"
    }
   ],
   "source": [
    "BASE_PATH = './datos/'\n",
    "FILE_NAME_WORLDCUP = 'worldcup2014.csv'\n",
    "df = pd.read_csv(BASE_PATH+FILE_NAME_WORLDCUP)\n",
    "df.head()"
   ]
  },
  {
   "cell_type": "markdown",
   "id": "a152f7ee-6f50-4b6f-8485-4fae2f64bf0d",
   "metadata": {},
   "source": [
    "## Conteos de datos usados en calculos "
   ]
  },
  {
   "cell_type": "code",
   "execution_count": 16,
   "id": "13b9268f-d4b1-4c57-a623-41196d73c45f",
   "metadata": {},
   "outputs": [
    {
     "data": {
      "text/plain": [
       "32"
      ]
     },
     "execution_count": 16,
     "metadata": {},
     "output_type": "execute_result"
    }
   ],
   "source": [
    "count_total = df.shape[0]\n",
    "count_total"
   ]
  },
  {
   "cell_type": "code",
   "execution_count": 17,
   "id": "807aa116-d6d5-4287-84e8-4fa5bf7e834b",
   "metadata": {},
   "outputs": [
    {
     "data": {
      "text/plain": [
       "continent\n",
       "africa           5\n",
       "asia             4\n",
       "europe          13\n",
       "northamerica     4\n",
       "southamerica     6\n",
       "Name: team, dtype: int64"
      ]
     },
     "execution_count": 17,
     "metadata": {},
     "output_type": "execute_result"
    }
   ],
   "source": [
    "count_continent = df.groupby('continent').count()['team']\n",
    "count_continent"
   ]
  },
  {
   "cell_type": "code",
   "execution_count": 24,
   "id": "6fe1c89b-5745-4765-b352-7eb6e4a48290",
   "metadata": {},
   "outputs": [
    {
     "data": {
      "text/plain": [
       "clasificado\n",
       "0    16\n",
       "1    16\n",
       "Name: team, dtype: int64"
      ]
     },
     "execution_count": 24,
     "metadata": {},
     "output_type": "execute_result"
    }
   ],
   "source": [
    "count_classified = df.groupby('clasificado').count()['team']\n",
    "count_classified"
   ]
  },
  {
   "cell_type": "code",
   "execution_count": 29,
   "id": "3e0a23f9-7528-4298-b227-e55dadd74b5f",
   "metadata": {},
   "outputs": [],
   "source": [
    "win_at_least_1 = df[df['juegos_ganados'] >= 1].shape[0]"
   ]
  },
  {
   "cell_type": "code",
   "execution_count": 36,
   "id": "9cf483f6-6e1d-4dad-ad59-6e21136ce485",
   "metadata": {},
   "outputs": [
    {
     "data": {
      "text/plain": [
       "continent     clasificado\n",
       "africa        0              3\n",
       "              1              2\n",
       "asia          0              4\n",
       "europe        0              7\n",
       "              1              6\n",
       "northamerica  0              1\n",
       "              1              3\n",
       "southamerica  0              1\n",
       "              1              5\n",
       "Name: team, dtype: int64"
      ]
     },
     "execution_count": 36,
     "metadata": {},
     "output_type": "execute_result"
    }
   ],
   "source": [
    "count_continent_classified = df.groupby(['continent', 'clasificado']).count()['team']\n",
    "count_continent_classified"
   ]
  },
  {
   "cell_type": "markdown",
   "id": "e704c0a2-c520-4811-b4ff-3e23c59d75a9",
   "metadata": {},
   "source": [
    "## Resolucion problemas  "
   ]
  },
  {
   "cell_type": "markdown",
   "id": "8ae4bae4-79a4-4cc6-8230-69f33f762ce0",
   "metadata": {},
   "source": [
    "### Considerando el experimento de seleccionar un país participante al azar, se pide determinar las probabilidades de los siguientes sucesos:"
   ]
  },
  {
   "cell_type": "markdown",
   "id": "adfa64e0-8c08-42d1-b76f-ed2b8746156f",
   "metadata": {},
   "source": [
    "#### a. pertenecer a África"
   ]
  },
  {
   "cell_type": "code",
   "execution_count": 18,
   "id": "8d97d440-d580-4908-ad75-ebb4f5fb9b16",
   "metadata": {},
   "outputs": [
    {
     "data": {
      "text/plain": [
       "0.15625"
      ]
     },
     "execution_count": 18,
     "metadata": {},
     "output_type": "execute_result"
    }
   ],
   "source": [
    "prob_select_africa = count_continent['africa']/count_total\n",
    "prob_select_africa"
   ]
  },
  {
   "cell_type": "markdown",
   "id": "79b62e3d-e399-42fb-bfd1-4f16fe0ef4a7",
   "metadata": {},
   "source": [
    "#### b. pertenecer a Asia"
   ]
  },
  {
   "cell_type": "code",
   "execution_count": 19,
   "id": "f5affa38-5df3-4846-b967-3d2094c3ab52",
   "metadata": {},
   "outputs": [
    {
     "data": {
      "text/plain": [
       "0.125"
      ]
     },
     "execution_count": 19,
     "metadata": {},
     "output_type": "execute_result"
    }
   ],
   "source": [
    "prob_select_asia = count_continent['asia']/count_total\n",
    "prob_select_asia"
   ]
  },
  {
   "cell_type": "markdown",
   "id": "9c106b1c-dd83-4f19-86ac-85dd7f7ce3e5",
   "metadata": {},
   "source": [
    "#### c. pertenecer a Europa"
   ]
  },
  {
   "cell_type": "code",
   "execution_count": 20,
   "id": "f1d1b8a3-187d-4651-87fd-7ea993f4f7df",
   "metadata": {},
   "outputs": [
    {
     "data": {
      "text/plain": [
       "0.40625"
      ]
     },
     "execution_count": 20,
     "metadata": {},
     "output_type": "execute_result"
    }
   ],
   "source": [
    "prob_select_eu = count_continent['europe']/count_total\n",
    "prob_select_eu"
   ]
  },
  {
   "cell_type": "markdown",
   "id": "95622b86-7755-487f-9814-b4e58dbe685b",
   "metadata": {},
   "source": [
    "#### d. pertenecer a Norteamérica"
   ]
  },
  {
   "cell_type": "code",
   "execution_count": 21,
   "id": "0578e524-a631-4017-aace-efdcd1e8ed4a",
   "metadata": {},
   "outputs": [
    {
     "data": {
      "text/plain": [
       "0.125"
      ]
     },
     "execution_count": 21,
     "metadata": {},
     "output_type": "execute_result"
    }
   ],
   "source": [
    "prob_select_na = count_continent['northamerica']/count_total\n",
    "prob_select_na"
   ]
  },
  {
   "cell_type": "markdown",
   "id": "6fdfb32d-1176-429c-96c5-7fe5811cd406",
   "metadata": {},
   "source": [
    "#### e. pertenecer a Sudamérica\n"
   ]
  },
  {
   "cell_type": "code",
   "execution_count": 22,
   "id": "0f7dfbdf-7587-4cc9-8c77-e7b9f9245fc4",
   "metadata": {},
   "outputs": [
    {
     "data": {
      "text/plain": [
       "0.1875"
      ]
     },
     "execution_count": 22,
     "metadata": {},
     "output_type": "execute_result"
    }
   ],
   "source": [
    "prob_select_sa = count_continent['southamerica']/count_total\n",
    "prob_select_sa"
   ]
  },
  {
   "cell_type": "markdown",
   "id": "27b2f229-9876-4d8f-9f7a-0d0b8708ea53",
   "metadata": {},
   "source": [
    "#### f. clasificar a segunda ronda\n"
   ]
  },
  {
   "cell_type": "code",
   "execution_count": 26,
   "id": "7edd715e-a469-4145-b338-dc9fd596537b",
   "metadata": {},
   "outputs": [
    {
     "data": {
      "text/plain": [
       "0.5"
      ]
     },
     "execution_count": 26,
     "metadata": {},
     "output_type": "execute_result"
    }
   ],
   "source": [
    "prob_classified = count_classified[1]/count_total\n",
    "prob_classified"
   ]
  },
  {
   "cell_type": "markdown",
   "id": "0162b501-b6be-4dec-9ccd-5c97a639500c",
   "metadata": {},
   "source": [
    "#### g. ganar al menos un partido\n"
   ]
  },
  {
   "cell_type": "code",
   "execution_count": 31,
   "id": "9791af08-0da8-458b-8af5-a879da26015e",
   "metadata": {},
   "outputs": [
    {
     "data": {
      "text/plain": [
       "0.71875"
      ]
     },
     "execution_count": 31,
     "metadata": {},
     "output_type": "execute_result"
    }
   ],
   "source": [
    "prob_win_at_least_1 = win_at_least_1/count_total\n",
    "prob_win_at_least_1"
   ]
  },
  {
   "cell_type": "markdown",
   "id": "064b3a11-0181-47af-a349-4d4fcd71db97",
   "metadata": {},
   "source": [
    "#### h. pertenecer a África y clasificar a segunda ronda\n"
   ]
  },
  {
   "cell_type": "code",
   "execution_count": 39,
   "id": "d1d32427-3ee4-4ada-886d-c5bac3b8db9a",
   "metadata": {},
   "outputs": [
    {
     "data": {
      "text/plain": [
       "0.0625"
      ]
     },
     "execution_count": 39,
     "metadata": {},
     "output_type": "execute_result"
    }
   ],
   "source": [
    "prob_africa_and_class = count_continent_classified['africa', 1]/count_total\n",
    "prob_africa_and_class"
   ]
  },
  {
   "cell_type": "markdown",
   "id": "ea07e47e-eab6-42cd-b70a-6b74643f3768",
   "metadata": {},
   "source": [
    "#### i. pertenecer a Europa y clasificar a segunda ronda\n"
   ]
  },
  {
   "cell_type": "code",
   "execution_count": 40,
   "id": "a8794278-4f27-4447-9afe-f0be23687804",
   "metadata": {},
   "outputs": [
    {
     "data": {
      "text/plain": [
       "0.1875"
      ]
     },
     "execution_count": 40,
     "metadata": {},
     "output_type": "execute_result"
    }
   ],
   "source": [
    "prob_eu_and_class = count_continent_classified['europe', 1]/count_total\n",
    "prob_eu_and_class"
   ]
  },
  {
   "cell_type": "markdown",
   "id": "9273a01a-3687-4350-b874-484087f2d101",
   "metadata": {},
   "source": [
    "#### j. pertenecer a Asia y clasificar a segunda ronda\n"
   ]
  },
  {
   "cell_type": "code",
   "execution_count": 56,
   "id": "d11374b6-9ccf-41f4-90c3-e0ae00f38776",
   "metadata": {},
   "outputs": [
    {
     "data": {
      "text/plain": [
       "clasificado\n",
       "0    4\n",
       "Name: team, dtype: int64"
      ]
     },
     "execution_count": 56,
     "metadata": {},
     "output_type": "execute_result"
    }
   ],
   "source": [
    "count_continent_classified['asia']"
   ]
  },
  {
   "cell_type": "markdown",
   "id": "507c2f11-acb9-49d7-851a-e6e92971663b",
   "metadata": {},
   "source": [
    "Como se ve en lo anterior, no hya clasificados de asia, por lo que la probabilidad es 0"
   ]
  },
  {
   "cell_type": "code",
   "execution_count": 57,
   "id": "5cfad9a0-c277-46ff-8ae7-1eb94a1d3334",
   "metadata": {},
   "outputs": [],
   "source": [
    "prob_asia_and_class = 0"
   ]
  },
  {
   "cell_type": "markdown",
   "id": "90e1b3d5-f9f8-434b-8c67-e3209f95582c",
   "metadata": {},
   "source": [
    "#### k. pertenecer a Sudamérica y clasificar a segunda ronda\n"
   ]
  },
  {
   "cell_type": "code",
   "execution_count": 43,
   "id": "5470a28f-f6a0-41ea-8699-d15cd5288024",
   "metadata": {},
   "outputs": [
    {
     "data": {
      "text/plain": [
       "0.15625"
      ]
     },
     "execution_count": 43,
     "metadata": {},
     "output_type": "execute_result"
    }
   ],
   "source": [
    "prob_sa_and_class = count_continent_classified['southamerica', 1]/count_total\n",
    "prob_sa_and_class"
   ]
  },
  {
   "cell_type": "markdown",
   "id": "f19552f2-2ea3-488b-b5fd-57093dc4cb80",
   "metadata": {},
   "source": [
    "#### l. pertenecer a Norteamérica y clasificar a segunda ronda\n"
   ]
  },
  {
   "cell_type": "code",
   "execution_count": 44,
   "id": "dd971ce0-cea8-4594-983a-7f20b2a1c453",
   "metadata": {},
   "outputs": [
    {
     "data": {
      "text/plain": [
       "0.09375"
      ]
     },
     "execution_count": 44,
     "metadata": {},
     "output_type": "execute_result"
    }
   ],
   "source": [
    "prob_na_and_class = count_continent_classified['northamerica', 1]/count_total\n",
    "prob_na_and_class"
   ]
  },
  {
   "cell_type": "markdown",
   "id": "3c9a3dca-bb39-40d6-9815-e00fabca6157",
   "metadata": {},
   "source": [
    "#### m. pertenecer a África o clasificar a segunda ronda\n"
   ]
  },
  {
   "cell_type": "code",
   "execution_count": 50,
   "id": "3a1346ab-ccb2-495e-93e5-f45b231b935f",
   "metadata": {},
   "outputs": [
    {
     "data": {
      "text/plain": [
       "0.59375"
      ]
     },
     "execution_count": 50,
     "metadata": {},
     "output_type": "execute_result"
    }
   ],
   "source": [
    "count_af_or_class = df[(df.continent == 'africa') | (df.clasificado == 1)].shape[0] \n",
    "prob_af_or_class = count_af_or_class/count_total\n",
    "prob_af_or_class"
   ]
  },
  {
   "cell_type": "markdown",
   "id": "8d530d91-41df-4d96-babd-5a9e7a1a880a",
   "metadata": {},
   "source": [
    "#### n. pertenecer a Europa o clasificar a segunda ronda\n"
   ]
  },
  {
   "cell_type": "code",
   "execution_count": 51,
   "id": "6bc88954-4b9f-4716-bb40-f05245712f9e",
   "metadata": {},
   "outputs": [
    {
     "data": {
      "text/plain": [
       "0.71875"
      ]
     },
     "execution_count": 51,
     "metadata": {},
     "output_type": "execute_result"
    }
   ],
   "source": [
    "count_eu_or_class = df[(df.continent == 'europe') | (df.clasificado == 1)].shape[0] \n",
    "prob_eu_or_class = count_eu_or_class/count_total\n",
    "prob_eu_or_class"
   ]
  },
  {
   "cell_type": "markdown",
   "id": "67f68b37-b67f-41dd-9aa4-620c89f8bbe9",
   "metadata": {},
   "source": [
    "#### o. pertenecer a Asia o clasificar a segunda ronda\n"
   ]
  },
  {
   "cell_type": "code",
   "execution_count": 53,
   "id": "20041be5-18c7-4a28-bb95-48842dd2ae06",
   "metadata": {},
   "outputs": [
    {
     "data": {
      "text/plain": [
       "0.625"
      ]
     },
     "execution_count": 53,
     "metadata": {},
     "output_type": "execute_result"
    }
   ],
   "source": [
    "count_asia_or_class = df[(df.continent == 'asia') | (df.clasificado == 1)].shape[0] \n",
    "prob_asia_or_class = count_asia_or_class/count_total\n",
    "prob_asia_or_class"
   ]
  },
  {
   "cell_type": "markdown",
   "id": "7709e2d6-944f-48db-a66b-f3e0748bcd54",
   "metadata": {},
   "source": [
    "#### p. pertenecer a Sudamérica o clasificar a segunda ronda"
   ]
  },
  {
   "cell_type": "code",
   "execution_count": 54,
   "id": "79c2c4c9-541e-413f-b460-a9c716b9c3d2",
   "metadata": {},
   "outputs": [
    {
     "data": {
      "text/plain": [
       "0.53125"
      ]
     },
     "execution_count": 54,
     "metadata": {},
     "output_type": "execute_result"
    }
   ],
   "source": [
    "count_su_or_class = df[(df.continent == 'southamerica') | (df.clasificado == 1)].shape[0] \n",
    "prob_su_or_class = count_su_or_class/count_total\n",
    "prob_su_or_class"
   ]
  },
  {
   "cell_type": "markdown",
   "id": "0f18e518-429f-4442-90f8-bbf191c0ce31",
   "metadata": {},
   "source": [
    "#### q. pertenecer a Norteamérica o clasificar a segunda ronda"
   ]
  },
  {
   "cell_type": "code",
   "execution_count": 55,
   "id": "f1841694-86b5-43da-8921-d9c1641f0b9f",
   "metadata": {},
   "outputs": [
    {
     "data": {
      "text/plain": [
       "0.53125"
      ]
     },
     "execution_count": 55,
     "metadata": {},
     "output_type": "execute_result"
    }
   ],
   "source": [
    "count_na_or_class = df[(df.continent == 'northamerica') | (df.clasificado == 1)].shape[0]\n",
    "prob_na_or_class = count_na_or_class/count_total\n",
    "prob_na_or_class"
   ]
  },
  {
   "cell_type": "markdown",
   "id": "e4e3323c-976f-4a01-aaae-a90899916641",
   "metadata": {},
   "source": [
    "#### r. pertenecer a África y haber ganado al menos un partido\n"
   ]
  },
  {
   "cell_type": "code",
   "execution_count": 65,
   "id": "d6d62b1c-8384-4116-a077-2b2c2e01a02e",
   "metadata": {},
   "outputs": [
    {
     "data": {
      "text/plain": [
       "0.09375"
      ]
     },
     "execution_count": 65,
     "metadata": {},
     "output_type": "execute_result"
    }
   ],
   "source": [
    "count_af_and_win_at_least = df[(df.continent == 'africa') & (df.juegos_ganados >= 1)].shape[0]\n",
    "prob_af_and_win_at_least = count_af_and_win_at_least/count_total\n",
    "prob_af_and_win_at_least"
   ]
  },
  {
   "cell_type": "markdown",
   "id": "2589165d-66b4-44b6-bf9b-8fedde2c3086",
   "metadata": {},
   "source": [
    "#### s. pertenecer a Europa y haber ganado al menos un partido"
   ]
  },
  {
   "cell_type": "code",
   "execution_count": 64,
   "id": "6c635cd5-46b9-451c-ae80-26354efb5195",
   "metadata": {},
   "outputs": [
    {
     "data": {
      "text/plain": [
       "0.0"
      ]
     },
     "execution_count": 64,
     "metadata": {},
     "output_type": "execute_result"
    }
   ],
   "source": [
    "count_eu_and_win_at_least = df[(df.continent == 'eutope') & (df.juegos_ganados >= 1)].shape[0]\n",
    "prob_eu_and_win_at_least = count_eu_and_win_at_least/count_total\n",
    "prob_eu_and_win_at_least"
   ]
  },
  {
   "cell_type": "markdown",
   "id": "9b233bee-ed97-490f-9641-cdf782c32eb9",
   "metadata": {},
   "source": [
    "#### t. pertenecer a Asia y haber ganado al menos un partido\n"
   ]
  },
  {
   "cell_type": "code",
   "execution_count": 63,
   "id": "db733510-4dfd-4656-a5f1-5b56766bf40b",
   "metadata": {},
   "outputs": [
    {
     "data": {
      "text/plain": [
       "0.0"
      ]
     },
     "execution_count": 63,
     "metadata": {},
     "output_type": "execute_result"
    }
   ],
   "source": [
    "count_as_and_win_at_least = df[(df.continent == 'asia') & (df.juegos_ganados >= 1)].shape[0]\n",
    "prob_as_and_win_at_least = count_as_and_win_at_least/count_total\n",
    "prob_as_and_win_at_least"
   ]
  },
  {
   "cell_type": "markdown",
   "id": "a9149e99-09dc-4701-961f-f317e3df2684",
   "metadata": {},
   "source": [
    "#### u. pertenecer a Sudamérica y haber ganado al menos un partido"
   ]
  },
  {
   "cell_type": "code",
   "execution_count": 62,
   "id": "7f5c67b8-1767-4620-ace4-ed6f11630a94",
   "metadata": {},
   "outputs": [
    {
     "data": {
      "text/plain": [
       "0.1875"
      ]
     },
     "execution_count": 62,
     "metadata": {},
     "output_type": "execute_result"
    }
   ],
   "source": [
    "count_su_and_win_at_least = df[(df.continent == 'southamerica') & (df.juegos_ganados >= 1)].shape[0]\n",
    "prob_su_and_win_at_least = count_su_and_win_at_least/count_total\n",
    "prob_su_and_win_at_least"
   ]
  },
  {
   "cell_type": "markdown",
   "id": "5f8dd996-dc23-42e3-b6e1-20ae48aad4d9",
   "metadata": {},
   "source": [
    "#### v. pertenecer a Norteamérica y haber ganado al menos un partido"
   ]
  },
  {
   "cell_type": "code",
   "execution_count": 61,
   "id": "300ae348-1c5f-4c44-a1ef-cb0ed937c122",
   "metadata": {},
   "outputs": [
    {
     "data": {
      "text/plain": [
       "0.09375"
      ]
     },
     "execution_count": 61,
     "metadata": {},
     "output_type": "execute_result"
    }
   ],
   "source": [
    "count_na_and_win_at_least = df[(df.continent == 'northamerica') & (df.juegos_ganados >= 1)].shape[0]\n",
    "prob_na_and_win_at_least = count_na_and_win_at_least/count_total\n",
    "prob_na_and_win_at_least"
   ]
  },
  {
   "cell_type": "markdown",
   "id": "af5fe8e3-2f07-4a77-a9c8-1cc7358b4c81",
   "metadata": {},
   "source": [
    "#### w. haber ganado al menos un partido y clasificar a segunda ronda"
   ]
  },
  {
   "cell_type": "code",
   "execution_count": 69,
   "id": "3b9f6000-26e0-478f-9ee5-d0be8eeac51f",
   "metadata": {},
   "outputs": [
    {
     "data": {
      "text/plain": [
       "0.5"
      ]
     },
     "execution_count": 69,
     "metadata": {},
     "output_type": "execute_result"
    }
   ],
   "source": [
    "count_win_at_least_and_class = df[(df.juegos_ganados>=1) & (df.clasificado == 1)].shape[0]\n",
    "prob_win_at_least_and_class = count_win_at_least_and_class/count_total\n",
    "prob_win_at_least_and_class"
   ]
  },
  {
   "cell_type": "markdown",
   "id": "c555cedd-d824-4067-8b58-737ed46b3998",
   "metadata": {},
   "source": [
    "### A partir de las probabilidades anteriores, y sin realizar conteos, calcular las siguientes probabilidades África"
   ]
  },
  {
   "cell_type": "markdown",
   "id": "48007504-f5fe-4422-a133-5f158eef1ea6",
   "metadata": {},
   "source": [
    "$$P(A/B) = {P(B/A) * P(A) \\over P(B)} $$\n",
    "$$P(A Y B) = P(A ∩ B) = P(A) * P(B/A)$$\n",
    "$$P(A/B) = {P(A Y B) \\over P(B)}$$"
   ]
  },
  {
   "cell_type": "markdown",
   "id": "dd3281bd-b799-46ad-8d31-d69dbf7848f3",
   "metadata": {},
   "source": [
    "#### a. pertenecer a Europa, si se sabe que clasificó"
   ]
  },
  {
   "cell_type": "code",
   "execution_count": 77,
   "id": "1d21800c-d095-44bc-8448-792a2e45d31c",
   "metadata": {},
   "outputs": [
    {
     "data": {
      "text/plain": [
       "0.375"
      ]
     },
     "execution_count": 77,
     "metadata": {},
     "output_type": "execute_result"
    }
   ],
   "source": [
    "# A = Pertenecer a europa\n",
    "# B = Clasifico\n",
    "prob_eu_and_class/prob_classified"
   ]
  },
  {
   "cell_type": "markdown",
   "id": "870c70e8-08f4-4fd0-bbdb-b7da18b75355",
   "metadata": {},
   "source": [
    "#### b. pertenecer a Sudamérica, si se sabe que clasificó"
   ]
  },
  {
   "cell_type": "code",
   "execution_count": 78,
   "id": "920f5c5a-bcab-40d3-9445-963116db4c82",
   "metadata": {},
   "outputs": [
    {
     "data": {
      "text/plain": [
       "0.3125"
      ]
     },
     "execution_count": 78,
     "metadata": {},
     "output_type": "execute_result"
    }
   ],
   "source": [
    "# A = Pertenecer a Sudamerica\n",
    "# B = Clasifico\n",
    "prob_sa_and_class/prob_classified"
   ]
  },
  {
   "cell_type": "markdown",
   "id": "4072f4c9-b109-4390-82d6-795f47b3b6b5",
   "metadata": {},
   "source": [
    "#### c. pertenecer a África, si se sabe que ganó al menos un partido"
   ]
  },
  {
   "cell_type": "code",
   "execution_count": 79,
   "id": "40177107-4787-4b14-9ec1-f41075f3cbc4",
   "metadata": {},
   "outputs": [
    {
     "data": {
      "text/plain": [
       "0.13043478260869565"
      ]
     },
     "execution_count": 79,
     "metadata": {},
     "output_type": "execute_result"
    }
   ],
   "source": [
    "# A = Pertenecer a africa\n",
    "# B = gano a lo menos un partido\n",
    "prob_af_and_win_at_least / prob_win_at_least_1"
   ]
  },
  {
   "cell_type": "markdown",
   "id": "bacfed4e-bdd1-48a4-a690-8c5e25a9ad25",
   "metadata": {},
   "source": [
    "#### d. haber ganado al menos un partido, si se sabe que clasificó"
   ]
  },
  {
   "cell_type": "code",
   "execution_count": 80,
   "id": "af773098-f9da-4015-900c-53e1ef3e4da0",
   "metadata": {},
   "outputs": [
    {
     "data": {
      "text/plain": [
       "1.0"
      ]
     },
     "execution_count": 80,
     "metadata": {},
     "output_type": "execute_result"
    }
   ],
   "source": [
    "# A = Gano Al menos un partido\n",
    "# B = Clasifico\n",
    "prob_win_at_least_and_class / prob_classified"
   ]
  },
  {
   "cell_type": "markdown",
   "id": "78e89809-741a-49d3-85e6-a22f91647282",
   "metadata": {},
   "source": [
    "#### e. haber ganado al menos un partido, si se sabe que pertenece a Norteamérica"
   ]
  },
  {
   "cell_type": "code",
   "execution_count": 85,
   "id": "c0f7c741-e396-44fd-ae9e-87ffbf61a555",
   "metadata": {},
   "outputs": [
    {
     "data": {
      "text/plain": [
       "0.75"
      ]
     },
     "execution_count": 85,
     "metadata": {},
     "output_type": "execute_result"
    }
   ],
   "source": [
    "# A = Gano al menos un partido\n",
    "# B = Pertenecer a northamerica\n",
    "prob_na_and_win_at_least / prob_select_na"
   ]
  },
  {
   "cell_type": "markdown",
   "id": "929f31ac-8758-47b2-8439-9e73bc12cbaf",
   "metadata": {},
   "source": [
    "#### f. NO haber clasificado, si se sabe que pertenece a África"
   ]
  },
  {
   "cell_type": "code",
   "execution_count": 89,
   "id": "73d24800-dc7f-401d-916c-61558136654c",
   "metadata": {},
   "outputs": [
    {
     "data": {
      "text/plain": [
       "0.6"
      ]
     },
     "execution_count": 89,
     "metadata": {},
     "output_type": "execute_result"
    }
   ],
   "source": [
    "1-(prob_africa_and_class/prob_select_africa)"
   ]
  }
 ],
 "metadata": {
  "kernelspec": {
   "display_name": "Python 3 (ipykernel)",
   "language": "python",
   "name": "python3"
  },
  "language_info": {
   "codemirror_mode": {
    "name": "ipython",
    "version": 3
   },
   "file_extension": ".py",
   "mimetype": "text/x-python",
   "name": "python",
   "nbconvert_exporter": "python",
   "pygments_lexer": "ipython3",
   "version": "3.11.6"
  }
 },
 "nbformat": 4,
 "nbformat_minor": 5
}
