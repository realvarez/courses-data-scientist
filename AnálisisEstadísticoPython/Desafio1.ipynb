{
 "cells": [
  {
   "cell_type": "markdown",
   "id": "3851abf7-1809-401e-93ae-40ef21ea7905",
   "metadata": {
    "editable": true,
    "slideshow": {
     "slide_type": ""
    },
    "tags": []
   },
   "source": [
    "# Desafio 1RA"
   ]
  },
  {
   "cell_type": "code",
   "execution_count": 8,
   "id": "c89d3322-64f3-42ba-bbae-a0e3ccfbd61b",
   "metadata": {},
   "outputs": [],
   "source": [
    "import pandas as pd\n",
    "import numpy as np"
   ]
  },
  {
   "cell_type": "code",
   "execution_count": 11,
   "id": "f57eaded-73fc-4434-bcf3-9e9c6d0a433e",
   "metadata": {},
   "outputs": [],
   "source": [
    "INPUT_FILE_PATH = \"/home/jovyan/AnálisisEstadísticoPython/Datos/ds_salaries.csv\"\n",
    "df = pd.read_csv(INPUT_FILE_PATH)"
   ]
  },
  {
   "cell_type": "code",
   "execution_count": 18,
   "id": "7bccbf28-670a-49c0-a270-e7c3dae59b83",
   "metadata": {},
   "outputs": [
    {
     "data": {
      "text/html": [
       "<div>\n",
       "<style scoped>\n",
       "    .dataframe tbody tr th:only-of-type {\n",
       "        vertical-align: middle;\n",
       "    }\n",
       "\n",
       "    .dataframe tbody tr th {\n",
       "        vertical-align: top;\n",
       "    }\n",
       "\n",
       "    .dataframe thead th {\n",
       "        text-align: right;\n",
       "    }\n",
       "</style>\n",
       "<table border=\"1\" class=\"dataframe\">\n",
       "  <thead>\n",
       "    <tr style=\"text-align: right;\">\n",
       "      <th></th>\n",
       "      <th>work_year</th>\n",
       "      <th>experience_level</th>\n",
       "      <th>employment_type</th>\n",
       "      <th>job_title</th>\n",
       "      <th>salary</th>\n",
       "      <th>salary_currency</th>\n",
       "      <th>salary_in_usd</th>\n",
       "      <th>employee_residence</th>\n",
       "      <th>remote_ratio</th>\n",
       "      <th>company_location</th>\n",
       "      <th>company_size</th>\n",
       "    </tr>\n",
       "  </thead>\n",
       "  <tbody>\n",
       "    <tr>\n",
       "      <th>0</th>\n",
       "      <td>2023</td>\n",
       "      <td>SE</td>\n",
       "      <td>FT</td>\n",
       "      <td>Principal Data Scientist</td>\n",
       "      <td>80000</td>\n",
       "      <td>EUR</td>\n",
       "      <td>85847</td>\n",
       "      <td>ES</td>\n",
       "      <td>100</td>\n",
       "      <td>ES</td>\n",
       "      <td>L</td>\n",
       "    </tr>\n",
       "    <tr>\n",
       "      <th>1</th>\n",
       "      <td>2023</td>\n",
       "      <td>MI</td>\n",
       "      <td>CT</td>\n",
       "      <td>ML Engineer</td>\n",
       "      <td>30000</td>\n",
       "      <td>USD</td>\n",
       "      <td>30000</td>\n",
       "      <td>US</td>\n",
       "      <td>100</td>\n",
       "      <td>US</td>\n",
       "      <td>S</td>\n",
       "    </tr>\n",
       "    <tr>\n",
       "      <th>2</th>\n",
       "      <td>2023</td>\n",
       "      <td>MI</td>\n",
       "      <td>CT</td>\n",
       "      <td>ML Engineer</td>\n",
       "      <td>25500</td>\n",
       "      <td>USD</td>\n",
       "      <td>25500</td>\n",
       "      <td>US</td>\n",
       "      <td>100</td>\n",
       "      <td>US</td>\n",
       "      <td>S</td>\n",
       "    </tr>\n",
       "    <tr>\n",
       "      <th>3</th>\n",
       "      <td>2023</td>\n",
       "      <td>SE</td>\n",
       "      <td>FT</td>\n",
       "      <td>Data Scientist</td>\n",
       "      <td>175000</td>\n",
       "      <td>USD</td>\n",
       "      <td>175000</td>\n",
       "      <td>CA</td>\n",
       "      <td>100</td>\n",
       "      <td>CA</td>\n",
       "      <td>M</td>\n",
       "    </tr>\n",
       "    <tr>\n",
       "      <th>4</th>\n",
       "      <td>2023</td>\n",
       "      <td>SE</td>\n",
       "      <td>FT</td>\n",
       "      <td>Data Scientist</td>\n",
       "      <td>120000</td>\n",
       "      <td>USD</td>\n",
       "      <td>120000</td>\n",
       "      <td>CA</td>\n",
       "      <td>100</td>\n",
       "      <td>CA</td>\n",
       "      <td>M</td>\n",
       "    </tr>\n",
       "  </tbody>\n",
       "</table>\n",
       "</div>"
      ],
      "text/plain": [
       "   work_year experience_level employment_type                 job_title  \\\n",
       "0       2023               SE              FT  Principal Data Scientist   \n",
       "1       2023               MI              CT               ML Engineer   \n",
       "2       2023               MI              CT               ML Engineer   \n",
       "3       2023               SE              FT            Data Scientist   \n",
       "4       2023               SE              FT            Data Scientist   \n",
       "\n",
       "   salary salary_currency  salary_in_usd employee_residence  remote_ratio  \\\n",
       "0   80000             EUR          85847                 ES           100   \n",
       "1   30000             USD          30000                 US           100   \n",
       "2   25500             USD          25500                 US           100   \n",
       "3  175000             USD         175000                 CA           100   \n",
       "4  120000             USD         120000                 CA           100   \n",
       "\n",
       "  company_location company_size  \n",
       "0               ES            L  \n",
       "1               US            S  \n",
       "2               US            S  \n",
       "3               CA            M  \n",
       "4               CA            M  "
      ]
     },
     "execution_count": 18,
     "metadata": {},
     "output_type": "execute_result"
    }
   ],
   "source": [
    "df.head()"
   ]
  },
  {
   "cell_type": "markdown",
   "id": "ed8c8fc1-1b55-436e-a34a-ed47be661312",
   "metadata": {},
   "source": [
    "## El promedio general de los salarios, desviación estándar, quintiles y rango.\r"
   ]
  },
  {
   "cell_type": "code",
   "execution_count": 14,
   "id": "4ad1fc26-8b89-456a-8284-14c13c9a7d4e",
   "metadata": {},
   "outputs": [
    {
     "data": {
      "text/plain": [
       "count      3755.000000\n",
       "mean     137570.389880\n",
       "std       63055.625278\n",
       "min        5132.000000\n",
       "25%       95000.000000\n",
       "50%      135000.000000\n",
       "75%      175000.000000\n",
       "max      450000.000000\n",
       "Name: salary_in_usd, dtype: float64"
      ]
     },
     "execution_count": 14,
     "metadata": {},
     "output_type": "execute_result"
    }
   ],
   "source": [
    "df.salary_in_usd.describe()"
   ]
  },
  {
   "cell_type": "code",
   "execution_count": 44,
   "id": "840a3766-c0ed-416d-8f01-b633496fef74",
   "metadata": {},
   "outputs": [
    {
     "data": {
      "text/plain": [
       "444868.0"
      ]
     },
     "execution_count": 44,
     "metadata": {},
     "output_type": "execute_result"
    }
   ],
   "source": [
    "rango = df.salary_in_usd.describe()['max'] - df.salary_in_usd.describe()['min']\n",
    "rango"
   ]
  },
  {
   "cell_type": "code",
   "execution_count": 45,
   "id": "4a53285f-f942-4e7e-9f05-f6303ad41746",
   "metadata": {},
   "outputs": [
    {
     "data": {
      "text/plain": [
       "0.0      5132.0\n",
       "0.2     83972.8\n",
       "0.4    120000.0\n",
       "0.6    149850.0\n",
       "0.8    185900.0\n",
       "1.0    450000.0\n",
       "Name: salary_in_usd, dtype: float64"
      ]
     },
     "execution_count": 45,
     "metadata": {},
     "output_type": "execute_result"
    }
   ],
   "source": [
    "df.salary_in_usd.quantile(q=[0, .2, .4, .6, .8, 1])"
   ]
  },
  {
   "cell_type": "markdown",
   "id": "7b09b746-847b-48f3-b0f7-f604dad823c2",
   "metadata": {},
   "source": [
    "## Comparación entre los salarios agrupados por 3 diferentes categorías \n",
    "categorías a tu \n",
    "elección. ¿Para cuál de ellas las medidas de tendencia central son más\r\n",
    "representativas? ¿Para cuál son menos representativas? Explica"
   ]
  },
  {
   "cell_type": "code",
   "execution_count": 68,
   "id": "1f384e99-06b0-488f-a75f-13d7e8edfdfe",
   "metadata": {},
   "outputs": [
    {
     "name": "stdout",
     "output_type": "stream",
     "text": [
      "promedio desviaciones 58542.82576302385\n",
      "promedio diferencia de media y mediana 4763.556218031641\n"
     ]
    },
    {
     "data": {
      "text/html": [
       "<div>\n",
       "<style scoped>\n",
       "    .dataframe tbody tr th:only-of-type {\n",
       "        vertical-align: middle;\n",
       "    }\n",
       "\n",
       "    .dataframe tbody tr th {\n",
       "        vertical-align: top;\n",
       "    }\n",
       "\n",
       "    .dataframe thead th {\n",
       "        text-align: right;\n",
       "    }\n",
       "</style>\n",
       "<table border=\"1\" class=\"dataframe\">\n",
       "  <thead>\n",
       "    <tr style=\"text-align: right;\">\n",
       "      <th></th>\n",
       "      <th>mean</th>\n",
       "      <th>50%</th>\n",
       "      <th>std</th>\n",
       "      <th>diff</th>\n",
       "    </tr>\n",
       "    <tr>\n",
       "      <th>experience_level</th>\n",
       "      <th></th>\n",
       "      <th></th>\n",
       "      <th></th>\n",
       "      <th></th>\n",
       "    </tr>\n",
       "  </thead>\n",
       "  <tbody>\n",
       "    <tr>\n",
       "      <th>EN</th>\n",
       "      <td>78546.284375</td>\n",
       "      <td>70000.0</td>\n",
       "      <td>52225.424309</td>\n",
       "      <td>8546.284375</td>\n",
       "    </tr>\n",
       "    <tr>\n",
       "      <th>EX</th>\n",
       "      <td>194930.929825</td>\n",
       "      <td>196000.0</td>\n",
       "      <td>70661.929661</td>\n",
       "      <td>-1069.070175</td>\n",
       "    </tr>\n",
       "    <tr>\n",
       "      <th>MI</th>\n",
       "      <td>104525.939130</td>\n",
       "      <td>100000.0</td>\n",
       "      <td>54387.685128</td>\n",
       "      <td>4525.939130</td>\n",
       "    </tr>\n",
       "    <tr>\n",
       "      <th>SE</th>\n",
       "      <td>153051.071542</td>\n",
       "      <td>146000.0</td>\n",
       "      <td>56896.263954</td>\n",
       "      <td>7051.071542</td>\n",
       "    </tr>\n",
       "  </tbody>\n",
       "</table>\n",
       "</div>"
      ],
      "text/plain": [
       "                           mean       50%           std         diff\n",
       "experience_level                                                    \n",
       "EN                 78546.284375   70000.0  52225.424309  8546.284375\n",
       "EX                194930.929825  196000.0  70661.929661 -1069.070175\n",
       "MI                104525.939130  100000.0  54387.685128  4525.939130\n",
       "SE                153051.071542  146000.0  56896.263954  7051.071542"
      ]
     },
     "execution_count": 68,
     "metadata": {},
     "output_type": "execute_result"
    }
   ],
   "source": [
    "df_g_experience = df.groupby('experience_level').salary_in_usd.describe()[['mean', '50%', 'std']]\n",
    "df_g_experience['diff'] = df_g_experience['mean'] - df_g_experience['50%']\n",
    "\n",
    "print('promedio desviaciones', df_g_experience['std'].mean())\n",
    "print('promedio diferencia de media y mediana', df_g_experience['diff'].mean())\n",
    "df_g_experience"
   ]
  },
  {
   "cell_type": "code",
   "execution_count": 69,
   "id": "2fd224a2-f771-4fb4-9d0a-1771fc718b60",
   "metadata": {},
   "outputs": [
    {
     "name": "stdout",
     "output_type": "stream",
     "text": [
      "promedio desviaciones 65593.44889273787\n",
      "promedio diferencia de media y mediana 9670.737725974002\n"
     ]
    },
    {
     "data": {
      "text/html": [
       "<div>\n",
       "<style scoped>\n",
       "    .dataframe tbody tr th:only-of-type {\n",
       "        vertical-align: middle;\n",
       "    }\n",
       "\n",
       "    .dataframe tbody tr th {\n",
       "        vertical-align: top;\n",
       "    }\n",
       "\n",
       "    .dataframe thead th {\n",
       "        text-align: right;\n",
       "    }\n",
       "</style>\n",
       "<table border=\"1\" class=\"dataframe\">\n",
       "  <thead>\n",
       "    <tr style=\"text-align: right;\">\n",
       "      <th></th>\n",
       "      <th>mean</th>\n",
       "      <th>50%</th>\n",
       "      <th>std</th>\n",
       "      <th>diff</th>\n",
       "    </tr>\n",
       "    <tr>\n",
       "      <th>company_size</th>\n",
       "      <th></th>\n",
       "      <th></th>\n",
       "      <th></th>\n",
       "      <th></th>\n",
       "    </tr>\n",
       "  </thead>\n",
       "  <tbody>\n",
       "    <tr>\n",
       "      <th>L</th>\n",
       "      <td>118300.982379</td>\n",
       "      <td>108500.0</td>\n",
       "      <td>75832.391505</td>\n",
       "      <td>9800.982379</td>\n",
       "    </tr>\n",
       "    <tr>\n",
       "      <th>M</th>\n",
       "      <td>143130.548367</td>\n",
       "      <td>140000.0</td>\n",
       "      <td>58992.813382</td>\n",
       "      <td>3130.548367</td>\n",
       "    </tr>\n",
       "    <tr>\n",
       "      <th>S</th>\n",
       "      <td>78226.682432</td>\n",
       "      <td>62146.0</td>\n",
       "      <td>61955.141792</td>\n",
       "      <td>16080.682432</td>\n",
       "    </tr>\n",
       "  </tbody>\n",
       "</table>\n",
       "</div>"
      ],
      "text/plain": [
       "                       mean       50%           std          diff\n",
       "company_size                                                     \n",
       "L             118300.982379  108500.0  75832.391505   9800.982379\n",
       "M             143130.548367  140000.0  58992.813382   3130.548367\n",
       "S              78226.682432   62146.0  61955.141792  16080.682432"
      ]
     },
     "execution_count": 69,
     "metadata": {},
     "output_type": "execute_result"
    }
   ],
   "source": [
    "df_g_csize = df.groupby('company_size').salary_in_usd.describe()[['mean', '50%', 'std']]\n",
    "df_g_csize['diff'] = df_g_csize['mean'] - df_g_csize['50%']\n",
    "print('promedio desviaciones', df_g_csize['std'].mean())\n",
    "print('promedio diferencia de media y mediana', df_g_csize['diff'].mean())\n",
    "df_g_csize"
   ]
  },
  {
   "cell_type": "code",
   "execution_count": 70,
   "id": "bc359500-6173-45c9-bb1e-8533aef947b6",
   "metadata": {},
   "outputs": [
    {
     "name": "stdout",
     "output_type": "stream",
     "text": [
      "promedio desviaciones 65099.98724294976\n",
      "promedio diferencia de media y mediana 15358.401363003513\n"
     ]
    },
    {
     "data": {
      "text/html": [
       "<div>\n",
       "<style scoped>\n",
       "    .dataframe tbody tr th:only-of-type {\n",
       "        vertical-align: middle;\n",
       "    }\n",
       "\n",
       "    .dataframe tbody tr th {\n",
       "        vertical-align: top;\n",
       "    }\n",
       "\n",
       "    .dataframe thead th {\n",
       "        text-align: right;\n",
       "    }\n",
       "</style>\n",
       "<table border=\"1\" class=\"dataframe\">\n",
       "  <thead>\n",
       "    <tr style=\"text-align: right;\">\n",
       "      <th></th>\n",
       "      <th>mean</th>\n",
       "      <th>50%</th>\n",
       "      <th>std</th>\n",
       "      <th>diff</th>\n",
       "    </tr>\n",
       "    <tr>\n",
       "      <th>employment_type</th>\n",
       "      <th></th>\n",
       "      <th></th>\n",
       "      <th></th>\n",
       "      <th></th>\n",
       "    </tr>\n",
       "  </thead>\n",
       "  <tbody>\n",
       "    <tr>\n",
       "      <th>CT</th>\n",
       "      <td>113446.900000</td>\n",
       "      <td>75000.0</td>\n",
       "      <td>130176.746842</td>\n",
       "      <td>38446.900000</td>\n",
       "    </tr>\n",
       "    <tr>\n",
       "      <th>FL</th>\n",
       "      <td>51807.800000</td>\n",
       "      <td>50000.0</td>\n",
       "      <td>29458.879336</td>\n",
       "      <td>1807.800000</td>\n",
       "    </tr>\n",
       "    <tr>\n",
       "      <th>FT</th>\n",
       "      <td>138314.199570</td>\n",
       "      <td>135000.0</td>\n",
       "      <td>62452.177613</td>\n",
       "      <td>3314.199570</td>\n",
       "    </tr>\n",
       "    <tr>\n",
       "      <th>PT</th>\n",
       "      <td>39533.705882</td>\n",
       "      <td>21669.0</td>\n",
       "      <td>38312.145181</td>\n",
       "      <td>17864.705882</td>\n",
       "    </tr>\n",
       "  </tbody>\n",
       "</table>\n",
       "</div>"
      ],
      "text/plain": [
       "                          mean       50%            std          diff\n",
       "employment_type                                                      \n",
       "CT               113446.900000   75000.0  130176.746842  38446.900000\n",
       "FL                51807.800000   50000.0   29458.879336   1807.800000\n",
       "FT               138314.199570  135000.0   62452.177613   3314.199570\n",
       "PT                39533.705882   21669.0   38312.145181  17864.705882"
      ]
     },
     "execution_count": 70,
     "metadata": {},
     "output_type": "execute_result"
    }
   ],
   "source": [
    "df_g_etype = df.groupby('employment_type').salary_in_usd.describe()[['mean', '50%', 'std']]\n",
    "df_g_etype['diff'] = df_g_etype['mean'] - df_g_etype['50%']\n",
    "print('promedio desviaciones', df_g_etype['std'].mean())\n",
    "print('promedio diferencia de media y mediana', df_g_etype['diff'].mean())\n",
    "df_g_etype"
   ]
  },
  {
   "cell_type": "markdown",
   "id": "c284ae83-d391-4f54-8d8e-0f4f4471331e",
   "metadata": {},
   "source": [
    "### Conclusion\n",
    "Comparando el promedio de desviaciones y el promedio de diferencia entre las medianas y la media se concluye que \n",
    "- La agrupacion mediante el nivel de experiencia (columna 'experience_level') tiene tendencias centrales mas representativas\n",
    "- La agrupacion mediante el tipo de empleo es la que tiene tendencias centrales menos representativas"
   ]
  },
  {
   "cell_type": "markdown",
   "id": "eff3c346-8287-4b52-a9aa-7af2cb4e2e92",
   "metadata": {},
   "source": [
    "## 3-¿Qué cargos reciben mejores sueldos en las empresas con sede en Estados Unidos?"
   ]
  },
  {
   "cell_type": "code",
   "execution_count": 58,
   "id": "fac614a0-a3d0-4617-b3e9-65cb4a630492",
   "metadata": {},
   "outputs": [
    {
     "name": "stdout",
     "output_type": "stream",
     "text": [
      "Los dies cargos con mejor sueldo en estados unidos son\n"
     ]
    },
    {
     "data": {
      "text/plain": [
       "job_title\n",
       "Data Analytics Lead                   405000.000000\n",
       "Data Science Tech Lead                375000.000000\n",
       "Director of Data Science              294375.000000\n",
       "Principal Data Scientist              255500.000000\n",
       "Cloud Data Architect                  250000.000000\n",
       "Applied Data Scientist                238000.000000\n",
       "Head of Data                          233183.333333\n",
       "Machine Learning Software Engineer    217400.000000\n",
       "Data Lead                             212500.000000\n",
       "Head of Data Science                  202355.000000\n",
       "Name: salary_in_usd, dtype: float64"
      ]
     },
     "execution_count": 58,
     "metadata": {},
     "output_type": "execute_result"
    }
   ],
   "source": [
    "print(\"Los dies cargos con mejor sueldo en estados unidos son\")\n",
    "df[df.company_location == 'US'].groupby('job_title')['salary_in_usd'].mean().sort_values(ascending=False)[0:10]"
   ]
  },
  {
   "cell_type": "code",
   "execution_count": null,
   "id": "5daa7d98-7413-45c1-adc1-2e405baffb9a",
   "metadata": {},
   "outputs": [],
   "source": []
  }
 ],
 "metadata": {
  "kernelspec": {
   "display_name": "Python 3 (ipykernel)",
   "language": "python",
   "name": "python3"
  },
  "language_info": {
   "codemirror_mode": {
    "name": "ipython",
    "version": 3
   },
   "file_extension": ".py",
   "mimetype": "text/x-python",
   "name": "python",
   "nbconvert_exporter": "python",
   "pygments_lexer": "ipython3",
   "version": "3.11.6"
  }
 },
 "nbformat": 4,
 "nbformat_minor": 5
}
