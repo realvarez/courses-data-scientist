{
 "cells": [
  {
   "cell_type": "markdown",
   "id": "0f98973f-4112-4894-9d13-fbc012997d85",
   "metadata": {},
   "source": [
    "# Prueba"
   ]
  },
  {
   "cell_type": "raw",
   "id": "a8efa7e1-9bf0-49ee-8e67-c0f4c2b7c651",
   "metadata": {},
   "source": [
    "En esta emocionante prueba final de Data Science, nos adentraremos en un desafiante problema del mundo real relacionado con la industria de la aviación. Nuestro objetivo es\n",
    "desarrollar un modelo predictivo capaz de estimar el precio de un boleto de avión basándonos en diversas características del vuelo. Este problema representa un escenario\n",
    "común en la industria de viajes, donde las aerolíneas y las agencias de viajes buscan ofrecer a los pasajeros tarifas competitivas y precisas.\n",
    "\n",
    "Imagina que trabajas en una agencia de viajes en línea que desea ofrecer a los clientes una herramienta que les permita obtener estimaciones precisas del precio de los boletos de\n",
    "avión para su próximo viaje. Sin embargo, el precio de un boleto de avión puede variar significativamente según múltiples factores, como la aerolínea, el destino, la temporada, la\n",
    "clase de servicio y la anticipación de la reserva. Aquí es donde entra en juego el Data Science.\n",
    "El desafío radica en desarrollar un modelo de Machine Learning que pueda predecir el precio de un boleto de avión en función de estas diversas variables. Esto implica limpiar, explorar y transformar los datos, seleccionar características relevantes, entrenar y afinar modelos predictivos y evaluar su rendimiento de manera precisa.\n",
    "\n",
    "Esta prueba final de Data Science te desafiará a aplicar todos los conocimientos adquiridos durante el curso para abordar un problema del mundo real. Al final de este desafío, habrás desarrollado un modelo de Machine Learning capaz de estimar con precisión el precio de un boleto de avión, lo que puede tener un impacto significativo en la industria de viajes y mejorar la experiencia de los viajeros.\n",
    "\n",
    "Prepárate para sumergirte en este emocionante proyecto y demostrar tus habilidades en Data Science para abordar un problema complejo y relevante. ¡Buena suerte! \n",
    "\n",
    "Considerando los datos entregados en las bases de datos, realiza las siguientes actividades:\n",
    "1. Describe con detenimiento el problema de negocio que se desea resolver, y cómo se va a hacer esto. Indica la metodología, tareas a realizar, variable objetivo a predecir,\n",
    "etc.\n",
    "2. Carga los dataset entregados y genera un reporte de calidad de los mismos. Indica qué estrategias se van a utilizar para aquellos puntos encontrados (Indicar nulos,\n",
    "outliers, valores perdidos, que se hará con esto, etc.)\n",
    "3. Genera un análisis exploratorio de los dataset entregados, un análisis univariado y bivariado. Prioriza los gráficos más importantes y entrega una conclusión a partir de\n",
    "estos.\n",
    "4. Realiza un análisis de correlaciones entre las diferentes variables existentes, identificando cuáles son las variables más importantes para la predicción de la variable objetivo. Utiliza las técnicas vistas en el curso.\n",
    "5. Realiza las transformaciones necesarias para realizar el modelamiento posterior y crea las variables que estimes convenientes con ayuda del análisis previo y la\n",
    "expertise del negocio.\n",
    "6. Genera una función que encapsule el tratamiento de datos necesario, para entregar un dataset limpio y procesado a partir del dataset original.\n",
    "7. Elige al menos 3 modelos candidatos para resolver el problema. A partir de esto, genera un conjunto de entrenamiento y prueba, para luego entrenar los diferentes\n",
    "modelos.\n",
    "8. Elige una grilla de hiperparametros y luego optimízalos, buscando la mejor combinación para cada grilla. Guardar los modelos entrenados.\n",
    "9. Define al menos 3 métricas para evaluar los modelos entrenados y genera gráficos de comparación. Elige un baseline para ver qué tan buena es tu opción respecto a\n",
    "ese baseline y concluye.\n",
    "10. Genera una conclusión final respecto a qué tan útiles son los resultados encontrados para resolver el problema propuesto y define cuáles podrían ser los próximos pasos\n",
    "para el proyecto. podrían ser los próximos pasos\r\n",
    "para el proyecto."
   ]
  },
  {
   "cell_type": "code",
   "execution_count": null,
   "id": "4b1a6bb6-2055-4ae7-b571-66c0934f5279",
   "metadata": {},
   "outputs": [],
   "source": [
    "import pandas as pd\n",
    "import statsmodels as ss\n",
    "from statsmodels.tsa.seasonal import seasonal_decompose\n",
    "import seaborn as sns\n",
    "import matplotlib.pyplot as plt\n",
    "from plotly.subplots import make_subplots\n",
    "import plotly.graph_objects as go\n",
    "import plotly.express as px\n",
    "import numpy as np\n",
    "import missingno as msngo\n",
    "pd.options.plotting.backend = \"plotly\""
   ]
  },
  {
   "cell_type": "markdown",
   "id": "67954b71-755d-45e4-bb40-27ab2b44bf70",
   "metadata": {},
   "source": [
    "## Pregunta 1"
   ]
  },
  {
   "cell_type": "markdown",
   "id": "5088e704-613d-4ba8-9884-30b22dc607ca",
   "metadata": {},
   "source": [
    "Describe con detenimiento el problema de negocio que se desea resolver, y cómo se va a hacer esto. Indica la metodología, tareas a realizar, variable objetivo a predecir,\n",
    "etc."
   ]
  },
  {
   "cell_type": "markdown",
   "id": "63853443-6a8c-4399-b1c3-0716a82b4769",
   "metadata": {},
   "source": [
    "Pensando en una metodologia Crisp-DM se piensa en un entendimiento del negocio, en este caso de venta de pasajes de avion, pensando en esto es conocido que variadas cosas son las que influyen, como la hora y el dia del vuelo, tipo de pasaje, el tiempo que toma, si tienen alguna parada, y obviamente el origen y el destino, estos datos son los que contamos en el dataset entregado"
   ]
  },
  {
   "cell_type": "code",
   "execution_count": null,
   "id": "19439ade-6701-497d-bb44-f85321ff98ed",
   "metadata": {},
   "outputs": [],
   "source": [
    "df_business = pd.read_excel('Data/business.xlsx')\n",
    "df_business.head()"
   ]
  },
  {
   "cell_type": "code",
   "execution_count": null,
   "id": "00e6082d-473c-423a-8683-af6472184851",
   "metadata": {},
   "outputs": [],
   "source": [
    "df_economy = pd.read_excel('Data/economy.xlsx')\n",
    "df_economy.head()"
   ]
  },
  {
   "cell_type": "markdown",
   "id": "bed240aa-b7b2-475b-bb26-fd97c424c679",
   "metadata": {},
   "source": [
    "Este es un problema de prediccion de precios de vuelos, se presentan dos dataframes, ambos contien la misma informacion pero para dos tipos de pasaje de avion, uno economy y el otro para business, dado esto tienen que unirse los dataframes en uno solo creando la columna de tipo de boleto."
   ]
  },
  {
   "cell_type": "markdown",
   "id": "faccde31-180e-4757-9b73-98d1e4e95c3d",
   "metadata": {},
   "source": [
    "## Pregunta 2"
   ]
  },
  {
   "cell_type": "markdown",
   "id": "4e2d4634-f78b-4e64-9d8e-5b454b538598",
   "metadata": {},
   "source": [
    "Carga los dataset entregados y genera un reporte de calidad de los mismos. Indica qué estrategias se van a utilizar para aquellos puntos encontrados (Indicar nulos,\n",
    "outliers, valores perdidos, que se hará con esto, etc.)"
   ]
  },
  {
   "cell_type": "markdown",
   "id": "fb4021bd-fb01-4d43-86de-77a06f0f591a",
   "metadata": {},
   "source": [
    "Para la resolucion del problema se haran algunas transformaciones como:\n",
    "- Convertir el tiempo de viaje a minutos, \n",
    "- Separar el tiempo de salida y de llegada en 3 periodos, mañana tarde y noche\n",
    "- Convertir la fecha del viaje en dia de la semana\n",
    "- La columna num_code se eliminará ya que no se tienen"
   ]
  },
  {
   "cell_type": "code",
   "execution_count": null,
   "id": "3f2305b9-ea50-4fef-b718-53c4538a4c31",
   "metadata": {},
   "outputs": [],
   "source": [
    "df_business.drop(columns=['num_code'], inplace=True)\n",
    "df_economy.drop(columns=['num_code'], inplace=True)"
   ]
  },
  {
   "cell_type": "code",
   "execution_count": null,
   "id": "d24196f9-d4c0-4f49-8b31-b1418fa498f8",
   "metadata": {},
   "outputs": [],
   "source": [
    "msngo.matrix(df_business)"
   ]
  },
  {
   "cell_type": "code",
   "execution_count": null,
   "id": "2525c579-6228-4baf-82bb-972177228f56",
   "metadata": {},
   "outputs": [],
   "source": [
    "msngo.matrix(df_economy)"
   ]
  },
  {
   "cell_type": "markdown",
   "id": "600e8f06-f4f7-4dcb-861f-fcf71901e683",
   "metadata": {},
   "source": [
    "No se observan nulos en ninguno de los dataframes"
   ]
  },
  {
   "cell_type": "code",
   "execution_count": null,
   "id": "00768f0b-b540-474b-80ce-c597a9c8c9a6",
   "metadata": {},
   "outputs": [],
   "source": [
    "df_business.info(True)"
   ]
  },
  {
   "cell_type": "code",
   "execution_count": null,
   "id": "51234b1e-38f1-47fa-bc0c-f11640a5d06d",
   "metadata": {},
   "outputs": [],
   "source": [
    "df_economy.info(True)"
   ]
  },
  {
   "cell_type": "code",
   "execution_count": null,
   "id": "0941b70f-e372-49da-b6e2-e9778276f1a2",
   "metadata": {},
   "outputs": [],
   "source": [
    "airline_code = df_economy[['airline', 'ch_code']].drop_duplicates()\n",
    "airline_code.head(20)"
   ]
  },
  {
   "cell_type": "code",
   "execution_count": null,
   "id": "1329042a-fe02-4bbc-9fcd-82e50ae766d4",
   "metadata": {},
   "outputs": [],
   "source": [
    "airline_code = df_business[['airline', 'ch_code']].drop_duplicates()\n",
    "airline_code.head(20)"
   ]
  },
  {
   "cell_type": "markdown",
   "id": "d6766118-15a0-4c7f-8e7f-830d607883f6",
   "metadata": {},
   "source": [
    "Con lo anterior se confirma que CH_CODE es una columna que hace referencia a la aerolinea, por lo que se dropeara airline"
   ]
  },
  {
   "cell_type": "code",
   "execution_count": null,
   "id": "fad05c84-7be1-48bd-bb29-51a6c2ef937e",
   "metadata": {},
   "outputs": [],
   "source": [
    "df_business.drop(columns=['airline'], inplace=True)\n",
    "df_economy.drop(columns=['airline'], inplace=True)"
   ]
  },
  {
   "cell_type": "code",
   "execution_count": null,
   "id": "ae754119-e42e-4966-ab58-3efb398a0144",
   "metadata": {},
   "outputs": [],
   "source": [
    "display(df_business.stop.unique())\n",
    "display(df_economy.stop.unique())"
   ]
  },
  {
   "cell_type": "markdown",
   "id": "cc99e617-c06e-49aa-9c66-99fd2354a8d3",
   "metadata": {},
   "source": [
    "En la columna Stop vemos que contiene informacion de si tuvo paradas el vuelo o no, en este caso vemos que tiene la informacion muy sucia y que hay registros que contienen la via en que realizaron la parada, y otros no, dada la falta de esta informacion se tomara en cuenta el numero de paradas que tiene el vuelo y se dejara como una columna"
   ]
  },
  {
   "cell_type": "code",
   "execution_count": null,
   "id": "48c06454-3d93-4d2b-bda8-8a8b52c0edc6",
   "metadata": {},
   "outputs": [],
   "source": [
    "df_business.stop = df_business.stop.apply(lambda x: 0 if x == 'non-stop' else int(x[0]))\n",
    "df_economy.stop = df_economy.stop.apply(lambda x: 0 if x == 'non-stop' else int(x[0]))"
   ]
  },
  {
   "cell_type": "code",
   "execution_count": null,
   "id": "18feae09-8395-4faa-b744-8be92cdcdb0d",
   "metadata": {},
   "outputs": [],
   "source": [
    "df_business.date = df_business.date.apply(lambda x: x.date().strftime(\"%A\"))\n",
    "df_economy.date = df_economy.date.apply(lambda x: x.date().strftime(\"%A\"))"
   ]
  },
  {
   "cell_type": "code",
   "execution_count": null,
   "id": "6aaee4a5-7ef5-4deb-ae8c-9d42a3d23d28",
   "metadata": {},
   "outputs": [],
   "source": [
    "df_economy['hours'] = df_economy.time_taken.apply(lambda x: x[:x.index('h')])\n",
    "df_economy['minutes'] = df_economy.time_taken.apply(lambda x: x[x.index('h')+1:x.index('m')])\n",
    "df_business['hours'] = df_business.time_taken.apply(lambda x: x[:x.index('h')])\n",
    "df_business['minutes'] = df_business.time_taken.apply(lambda x: x[x.index('h')+1:x.index('m')])\n",
    "\n",
    "df_business.time_taken = df_business.hours.apply(lambda x: int(float(x)*60) if x.strip() != '' else 0) + \\\n",
    "    df_business.minutes.apply(lambda x: int(x) if x.strip() != '' else 0)\n",
    "\n",
    "df_economy.time_taken = df_economy.hours.apply(lambda x: int(float(x)*60) if x.strip() != '' else 0) + \\\n",
    "    df_economy.minutes.apply(lambda x: int(x) if x.strip() != '' else 0)\n",
    "df_economy.drop(columns=['hours', 'minutes'], inplace=True)\n",
    "df_business.drop(columns=['hours', 'minutes'], inplace=True)"
   ]
  },
  {
   "cell_type": "code",
   "execution_count": null,
   "id": "8888f9b8-906b-4f00-ac1b-29351e9d23ec",
   "metadata": {},
   "outputs": [],
   "source": [
    "def categorizar_hora(hora):\n",
    "    if hora >= pd.to_datetime('00:00:00').time() and hora < pd.to_datetime('06:00:00').time():\n",
    "        return 'madrugada'\n",
    "    elif hora >= pd.to_datetime('06:00:00').time() and hora < pd.to_datetime('12:00:00').time():\n",
    "        return 'manana'\n",
    "    elif hora >= pd.to_datetime('12:00:00').time() and hora < pd.to_datetime('18:00:00').time():\n",
    "        return 'tarde'\n",
    "    else:\n",
    "        return 'noche'\n",
    "\n",
    "# Aplicar la función a la columna 'hora'\n",
    "df_economy['dep_timeday'] = df_economy.dep_time.apply(categorizar_hora)\n",
    "df_business['dep_timeday'] = df_business.dep_time.apply(categorizar_hora)\n",
    "df_economy.drop(columns=['dep_time'], inplace=True)\n",
    "df_business.drop(columns=['dep_time'], inplace=True)"
   ]
  },
  {
   "cell_type": "code",
   "execution_count": null,
   "id": "f332ebdf-d4a4-49a4-9316-381795c51ed2",
   "metadata": {},
   "outputs": [],
   "source": [
    "df_economy['arr_timeday'] = df_economy.arr_time.apply(categorizar_hora)\n",
    "df_business['arr_timeday'] = df_business.arr_time.apply(categorizar_hora)\n",
    "df_economy.drop(columns=['arr_time'], inplace=True)\n",
    "df_business.drop(columns=['arr_time'], inplace=True)"
   ]
  },
  {
   "cell_type": "code",
   "execution_count": null,
   "id": "33f12b85-e855-4229-9092-f267fae02beb",
   "metadata": {},
   "outputs": [],
   "source": [
    "display(df_economy.head(10))\n",
    "display(df_business.head(10))"
   ]
  },
  {
   "cell_type": "markdown",
   "id": "75d1de5e-dd6b-4fa7-b7d5-20b30e7e74d8",
   "metadata": {},
   "source": [
    "## Pregunta 3"
   ]
  },
  {
   "cell_type": "markdown",
   "id": "a9f770bc-623b-46bf-b750-ca9a6156719b",
   "metadata": {},
   "source": [
    "Genera un análisis exploratorio de los dataset entregados, un análisis univariado y bivariado. Prioriza los gráficos más importantes y entrega una conclusión a partir de\n",
    "estos."
   ]
  },
  {
   "cell_type": "code",
   "execution_count": null,
   "id": "864581fe-3643-416d-bf3d-cf15375a1d80",
   "metadata": {},
   "outputs": [],
   "source": [
    "df_business['business'] = 1 \n",
    "df_economy['business'] = 0\n",
    "df = pd.concat([df_business, df_economy], ignore_index=True)"
   ]
  },
  {
   "cell_type": "code",
   "execution_count": null,
   "id": "2e234cb2-a320-4d42-b212-e9be06e9f00c",
   "metadata": {},
   "outputs": [],
   "source": [
    "display(df.business.plot(kind='hist', title='Total business flights'))"
   ]
  },
  {
   "cell_type": "code",
   "execution_count": null,
   "id": "60d9821e-94d6-4d93-a273-05835e5a60d7",
   "metadata": {},
   "outputs": [],
   "source": [
    "fig = make_subplots(rows=3, cols=1)\n",
    "fig.append_trace(\n",
    "    go.Histogram(x=df_economy.date, name=\"Economy day of flight\"),\n",
    "    row=1, col=1\n",
    ")\n",
    "fig.append_trace(\n",
    "    go.Histogram(x=df_business.date, name = 'Business day of flight'),\n",
    "    row=2, col=1\n",
    ")\n",
    "fig.append_trace(\n",
    "    go.Histogram(x=df.date, name = 'Total day of flight'),\n",
    "    row=3, col=1\n",
    ")\n",
    "\n",
    "fig.update_layout(\n",
    "    autosize=True,\n",
    "    width=1000, height=800,\n",
    "    margin=dict(\n",
    "        l=50,\n",
    "        r=100,\n",
    "        b=50,\n",
    "        t=50,\n",
    "        pad=4\n",
    "    ),\n",
    "    paper_bgcolor=\"LightSteelBlue\",\n",
    ")"
   ]
  },
  {
   "cell_type": "code",
   "execution_count": null,
   "id": "4d2885a9-b8a5-4bd1-8038-f83fe0b321bd",
   "metadata": {},
   "outputs": [],
   "source": [
    "fig = make_subplots(rows=3, cols=1)\n",
    "fig.append_trace(\n",
    "    go.Histogram(x=df_economy.ch_code, name=\"Economy airline code\"),\n",
    "    row=1, col=1\n",
    ")\n",
    "fig.append_trace(\n",
    "    go.Histogram(x=df_business.ch_code, name = 'Business airline code'),\n",
    "    row=2, col=1\n",
    ")\n",
    "fig.append_trace(\n",
    "    go.Histogram(x=df.ch_code, name = 'Total airline code'),\n",
    "    row=3, col=1\n",
    ")\n",
    "\n",
    "fig.update_layout(\n",
    "    autosize=True,\n",
    "    width=1000, height=800,\n",
    "    margin=dict(\n",
    "        l=50,\n",
    "        r=100,\n",
    "        b=50,\n",
    "        t=50,\n",
    "        pad=4\n",
    "    ),\n",
    "    paper_bgcolor=\"LightSteelBlue\",\n",
    ")"
   ]
  },
  {
   "cell_type": "code",
   "execution_count": null,
   "id": "73a1acd5-8e68-4ce7-9e38-3b37302118e0",
   "metadata": {},
   "outputs": [],
   "source": [
    "fig = make_subplots(rows=3, cols=1)\n",
    "fig.append_trace(\n",
    "    go.Histogram(x=df_economy.arr_timeday, name=\"Economy arrive time\"),\n",
    "    row=1, col=1\n",
    ")\n",
    "fig.append_trace(\n",
    "    go.Histogram(x=df_business.arr_timeday, name = 'Business arrive time'),\n",
    "    row=2, col=1\n",
    ")\n",
    "fig.append_trace(\n",
    "    go.Histogram(x=df.arr_timeday, name = 'Total arrive time'),\n",
    "    row=3, col=1\n",
    ")\n",
    "\n",
    "fig.update_layout(\n",
    "    autosize=True,\n",
    "    width=1000, height=800,\n",
    "    margin=dict(\n",
    "        l=50,\n",
    "        r=100,\n",
    "        b=50,\n",
    "        t=50,\n",
    "        pad=4\n",
    "    ),\n",
    "    paper_bgcolor=\"LightSteelBlue\",\n",
    ")"
   ]
  },
  {
   "cell_type": "code",
   "execution_count": null,
   "id": "6a337181-dcd3-484f-917a-20de435e95bf",
   "metadata": {},
   "outputs": [],
   "source": [
    "fig = make_subplots(rows=3, cols=1)\n",
    "fig.append_trace(\n",
    "    go.Histogram(x=df_economy.dep_timeday, name=\"Economy departure time\"),\n",
    "    row=1, col=1\n",
    ")\n",
    "fig.append_trace(\n",
    "    go.Histogram(x=df_business.dep_timeday, name = 'Business departure time'),\n",
    "    row=2, col=1\n",
    ")\n",
    "fig.append_trace(\n",
    "    go.Histogram(x=df.dep_timeday, name = 'Total departure time'),\n",
    "    row=3, col=1\n",
    ")\n",
    "\n",
    "fig.update_layout(\n",
    "    autosize=True,\n",
    "    width=1000, height=800,\n",
    "    margin=dict(\n",
    "        l=50,\n",
    "        r=100,\n",
    "        b=50,\n",
    "        t=50,\n",
    "        pad=4\n",
    "    ),\n",
    "    paper_bgcolor=\"LightSteelBlue\",\n",
    ")"
   ]
  },
  {
   "cell_type": "code",
   "execution_count": null,
   "id": "54a4cf03-fee7-4011-90a5-195ce354be90",
   "metadata": {},
   "outputs": [],
   "source": [
    "fig = make_subplots(rows=3, cols=1)\n",
    "fig.append_trace(\n",
    "    go.Histogram(x=df_economy['from'], name=\"Economy flight origin\"),\n",
    "    row=1, col=1\n",
    ")\n",
    "fig.append_trace(\n",
    "    go.Histogram(x=df_business['from'], name = 'Business flight origin'),\n",
    "    row=2, col=1\n",
    ")\n",
    "fig.append_trace(\n",
    "    go.Histogram(x=df['from'], name = 'Total flight origin'),\n",
    "    row=3, col=1\n",
    ")\n",
    "\n",
    "fig.update_layout(\n",
    "    autosize=True,\n",
    "    width=1000, height=800,\n",
    "    margin=dict(\n",
    "        l=50,\n",
    "        r=100,\n",
    "        b=50,\n",
    "        t=50,\n",
    "        pad=4\n",
    "    ),\n",
    "    paper_bgcolor=\"LightSteelBlue\",\n",
    ")"
   ]
  },
  {
   "cell_type": "code",
   "execution_count": null,
   "id": "51a3534d-279c-4fc0-8d15-54364617ce4b",
   "metadata": {},
   "outputs": [],
   "source": [
    "fig = make_subplots(rows=3, cols=1)\n",
    "fig.append_trace(\n",
    "    go.Histogram(x=df_economy.to, name=\"Economy flight destiny\"),\n",
    "    row=1, col=1\n",
    ")\n",
    "fig.append_trace(\n",
    "    go.Histogram(x=df_business.to, name = 'Business flight destiny'),\n",
    "    row=2, col=1\n",
    ")\n",
    "fig.append_trace(\n",
    "    go.Histogram(x=df.to, name = 'Total flight destiny'),\n",
    "    row=3, col=1\n",
    ")\n",
    "\n",
    "fig.update_layout(\n",
    "    autosize=True,\n",
    "    width=1000, height=800,\n",
    "    margin=dict(\n",
    "        l=50,\n",
    "        r=100,\n",
    "        b=50,\n",
    "        t=50,\n",
    "        pad=4\n",
    "    ),\n",
    "    paper_bgcolor=\"LightSteelBlue\",\n",
    ")"
   ]
  },
  {
   "cell_type": "code",
   "execution_count": null,
   "id": "2a21d1f1-d2ef-4f4b-b63b-b311f07c4437",
   "metadata": {},
   "outputs": [],
   "source": [
    "fig = make_subplots(rows=3, cols=1)\n",
    "fig.append_trace(\n",
    "    go.Histogram(x=df_business.time_taken, name=\"Business time taken in flight\"),\n",
    "    row=1, col=1\n",
    ")\n",
    "fig.append_trace(\n",
    "    go.Histogram(x=df_economy.time_taken, name = 'Economy time taken in flight'),\n",
    "    row=2, col=1\n",
    ")\n",
    "fig.append_trace(\n",
    "    go.Histogram(x=df.time_taken, name = 'Total time taken in flight'),\n",
    "    row=3, col=1\n",
    ")\n",
    "\n",
    "fig.update_layout(\n",
    "    autosize=True,\n",
    "    width=1000, height=800,\n",
    "    margin=dict(\n",
    "        l=50,\n",
    "        r=100,\n",
    "        b=50,\n",
    "        t=50,\n",
    "        pad=4\n",
    "    ),\n",
    "    paper_bgcolor=\"LightSteelBlue\",\n",
    ")"
   ]
  },
  {
   "cell_type": "code",
   "execution_count": null,
   "id": "7f5939e3-a8a4-451a-8314-08657a53386b",
   "metadata": {},
   "outputs": [],
   "source": [
    "fig = make_subplots(rows=1, cols=1)\n",
    "fig.append_trace(\n",
    "    go.Box(y=df_business.time_taken, name=\"Business time taken in flight\"),\n",
    "    row=1, col=1\n",
    ")\n",
    "fig.append_trace(\n",
    "    go.Box(y=df_economy.time_taken, name=\"Economy time taken in flight\"),\n",
    "    row=1, col=1\n",
    ")\n",
    "fig.append_trace(\n",
    "    go.Box(y=df.time_taken, name = 'Total time taken in flight'),\n",
    "    row=1, col=1\n",
    ")\n",
    "\n",
    "fig.update_layout(\n",
    "    autosize=True,\n",
    "    width=1000, height=800,\n",
    "    margin=dict(\n",
    "        l=50,\n",
    "        r=100,\n",
    "        b=50,\n",
    "        t=50,\n",
    "        pad=4\n",
    "    ),\n",
    "    paper_bgcolor=\"LightSteelBlue\",\n",
    ")"
   ]
  },
  {
   "cell_type": "code",
   "execution_count": null,
   "id": "76ce3312-6c0d-4fcf-ab52-263d98cd383b",
   "metadata": {},
   "outputs": [],
   "source": [
    "fig = make_subplots(rows=1, cols=1)\n",
    "fig.append_trace(\n",
    "    go.Box(y=df_business.price, name=\"Business flight price\"),\n",
    "    row=1, col=1\n",
    ")\n",
    "fig.append_trace(\n",
    "    go.Box(y=df_economy.price, name=\"Economy flight price\"),\n",
    "    row=1, col=1\n",
    ")\n",
    "fig.append_trace(\n",
    "    go.Box(y=df.price, name = 'Flight price'),\n",
    "    row=1, col=1\n",
    ")\n",
    "\n",
    "fig.update_layout(\n",
    "    autosize=True,\n",
    "    width=1000, height=800,\n",
    "    margin=dict(\n",
    "        l=50,\n",
    "        r=100,\n",
    "        b=50,\n",
    "        t=50,\n",
    "        pad=4\n",
    "    ),\n",
    "    paper_bgcolor=\"LightSteelBlue\",\n",
    ")"
   ]
  },
  {
   "cell_type": "code",
   "execution_count": null,
   "id": "1681b0ec-9134-4eb3-b04f-55154b3a5050",
   "metadata": {},
   "outputs": [],
   "source": [
    "df.price.apply(lambda x: x if not f'{x}'.isnumeric() else None).dropna().index"
   ]
  },
  {
   "cell_type": "code",
   "execution_count": null,
   "id": "fa6cfe76-cbfa-4fef-8ff9-926e18864c38",
   "metadata": {},
   "outputs": [],
   "source": [
    "df.iloc[df.price.apply(lambda x: x if not f'{x}'.isnumeric() else None).dropna().index]"
   ]
  },
  {
   "cell_type": "markdown",
   "id": "be508b11-c369-4f89-a0b5-fe964b3cb30e",
   "metadata": {},
   "source": [
    "Se observan valores con problemas en la columna de precios, se presume que las comas estan mal puestas por lo que se eliminaran solamente las comas"
   ]
  },
  {
   "cell_type": "code",
   "execution_count": null,
   "id": "d0c95796-02ee-4abe-a291-483db7252657",
   "metadata": {},
   "outputs": [],
   "source": [
    "df.price = df.price.apply(lambda x: int(f'{x}'.replace(',', '')))"
   ]
  },
  {
   "cell_type": "markdown",
   "id": "5ae300c9-7af6-4b40-b8bb-991d60eaece7",
   "metadata": {},
   "source": [
    "Se observan outliers en el tiempo de vuelo de los viajes, estos estan presentes tanto en los buelos economicos y de negocios, eliminaremos los outliers basados en el IQR"
   ]
  },
  {
   "cell_type": "code",
   "execution_count": null,
   "id": "9ab3ec43-0d59-4eb8-99e6-9efd32f8b420",
   "metadata": {},
   "outputs": [],
   "source": [
    "def drop_outliers_IQR(df):\n",
    "   q1=df.quantile(0.25)\n",
    "   q3=df.quantile(0.75)\n",
    "   IQR=q3-q1\n",
    "   not_outliers = df[~((df<(q1-1.5*IQR)) | (df>(q3+1.5*IQR)))]\n",
    "   return not_outliers\n",
    "print(df.shape)\n",
    "df['time_taken'] = drop_outliers_IQR(df.time_taken)\n",
    "df = df.dropna()\n",
    "print(df.shape)\n",
    "fig = make_subplots(rows=1, cols=1)\n",
    "fig.append_trace(\n",
    "    go.Box(y=df.time_taken, name = 'Total time taken in flight'),\n",
    "    row=1, col=1\n",
    ")\n",
    "\n",
    "fig.update_layout(\n",
    "    autosize=True,\n",
    "    width=1000, height=800,\n",
    "    margin=dict(\n",
    "        l=50,\n",
    "        r=100,\n",
    "        b=50,\n",
    "        t=50,\n",
    "        pad=4\n",
    "    ),\n",
    "    paper_bgcolor=\"LightSteelBlue\",\n",
    ")"
   ]
  },
  {
   "cell_type": "markdown",
   "id": "8640a2fd-425a-4ffa-a4ef-607e5203de94",
   "metadata": {},
   "source": [
    "Podemos ver que se dismimuyen en gran cantidad los outliers de la muestra respecto al tiempo de vuelo y que los datos disminuyen aproximadamente en 2000 datos"
   ]
  },
  {
   "cell_type": "code",
   "execution_count": null,
   "id": "a91414a1-c54b-4de1-af68-d6959bb25c42",
   "metadata": {},
   "outputs": [],
   "source": [
    "fig = make_subplots(rows=1, cols=1)\n",
    "fig.append_trace(\n",
    "    go.Box(y=df.price, name = 'Total price flight'),\n",
    "    row=1, col=1\n",
    ")\n",
    "\n",
    "fig.update_layout(\n",
    "    autosize=True,\n",
    "    width=1000, height=800,\n",
    "    margin=dict(\n",
    "        l=50,\n",
    "        r=100,\n",
    "        b=50,\n",
    "        t=50,\n",
    "        pad=4\n",
    "    ),\n",
    "    paper_bgcolor=\"LightSteelBlue\",\n",
    ")"
   ]
  },
  {
   "cell_type": "markdown",
   "id": "26bd26bf-6d71-4503-958a-166474447429",
   "metadata": {},
   "source": [
    "Tambien se observa que mejoro mucho la distribucion de los datos del precio de los datos"
   ]
  },
  {
   "cell_type": "markdown",
   "id": "97ba9d03-2677-44e7-b0f5-56208efd4cd5",
   "metadata": {},
   "source": [
    "## Pregunta 4"
   ]
  },
  {
   "cell_type": "markdown",
   "id": "7018b140-e134-4000-9ea9-7d46d647b84e",
   "metadata": {},
   "source": [
    "Realiza un análisis de correlaciones entre las diferentes variables existentes, identificando cuáles son las variables más importantes para la predicción de la variable objetivo. Utiliza las técnicas vistas en el curso."
   ]
  },
  {
   "cell_type": "code",
   "execution_count": null,
   "id": "aed09291-44ce-4e06-a25b-d3a8cd78b11a",
   "metadata": {},
   "outputs": [],
   "source": [
    "sns.heatmap(df[['time_taken', 'stop', 'business', 'price']].corr(), annot=True, cmap='Reds')"
   ]
  },
  {
   "cell_type": "markdown",
   "id": "25b82caf-3ba4-4703-b683-e72a51a8c197",
   "metadata": {},
   "source": [
    "Con lo anterior vemos que los vuelos de negocios tienen una marca muy importante sobre el precio del boleto, ademas de esto poco vemos sobre el tiempo de vuelo por si y con el si tuvieron paradas o no con el precio\n",
    "Como no detectamos ninguna correlacion entre las variables que usaremos para predecir y muchas otras ya fueron eliminadas, proseguimos con el trabajo a realizar"
   ]
  },
  {
   "cell_type": "code",
   "execution_count": null,
   "id": "8aadc78d-24b9-40f1-962d-2b00d0761da1",
   "metadata": {},
   "outputs": [],
   "source": [
    "fig = make_subplots(rows=1, cols=1)\n",
    "fig.append_trace(\n",
    "    go.Box(y=df[df.dep_timeday == 'madrugada'].price, name = 'Precio con salida en la madrugada'),\n",
    "    row=1, col=1\n",
    ")\n",
    "fig.append_trace(\n",
    "    go.Box(y=df[df.dep_timeday == 'manana'].price, name = 'Precio con salida en la mañana'),\n",
    "    row=1, col=1\n",
    ")\n",
    "fig.append_trace(\n",
    "    go.Box(y=df[df.dep_timeday == 'tarde'].price, name = 'Precio con salida en la tarde'),\n",
    "    row=1, col=1\n",
    ")\n",
    "fig.append_trace(\n",
    "    go.Box(y=df[df.dep_timeday == 'noche'].price, name = 'Precio con salida en la noche'),\n",
    "    row=1, col=1\n",
    ")\n",
    "fig.update_layout(\n",
    "    autosize=True,\n",
    "    width=1000, height=800,\n",
    "    margin=dict(\n",
    "        l=50,\n",
    "        r=100,\n",
    "        b=50,\n",
    "        t=50,\n",
    "        pad=4\n",
    "    ),\n",
    "    paper_bgcolor=\"LightSteelBlue\",\n",
    ")"
   ]
  },
  {
   "cell_type": "markdown",
   "id": "2c3cf1bf-4390-4261-b84d-689b66fbef89",
   "metadata": {},
   "source": [
    "Con esto podemos observar el efecto del horario de salida en los precios, siendo las salidas que son en madrugada mucho mas baratos que el resto en general"
   ]
  },
  {
   "cell_type": "code",
   "execution_count": null,
   "id": "162eb116-502e-4f5d-8713-651ea11537db",
   "metadata": {},
   "outputs": [],
   "source": [
    "fig = make_subplots(rows=1, cols=1)\n",
    "fig.append_trace(\n",
    "    go.Box(y=df[df.arr_timeday == 'madrugada'].price, name = 'Precio con llegada en la madrugada'),\n",
    "    row=1, col=1\n",
    ")\n",
    "fig.append_trace(\n",
    "    go.Box(y=df[df.arr_timeday == 'manana'].price, name = 'Precio con llegada en la mañana'),\n",
    "    row=1, col=1\n",
    ")\n",
    "fig.append_trace(\n",
    "    go.Box(y=df[df.arr_timeday == 'tarde'].price, name = 'Precio con llegada en la tarde'),\n",
    "    row=1, col=1\n",
    ")\n",
    "fig.append_trace(\n",
    "    go.Box(y=df[df.arr_timeday == 'noche'].price, name = 'Precio con llegada en la noche'),\n",
    "    row=1, col=1\n",
    ")\n",
    "fig.update_layout(\n",
    "    autosize=True,\n",
    "    width=1000, height=800,\n",
    "    margin=dict(\n",
    "        l=50,\n",
    "        r=100,\n",
    "        b=50,\n",
    "        t=50,\n",
    "        pad=4\n",
    "    ),\n",
    "    paper_bgcolor=\"LightSteelBlue\",\n",
    ")"
   ]
  },
  {
   "cell_type": "markdown",
   "id": "61b35e60-00f5-4834-b77e-c3dfef80c2d8",
   "metadata": {},
   "source": [
    "Analizando el precio en los horarios de llegada no obtenemos mucha mas informacion que la obtenida anteriormente"
   ]
  },
  {
   "cell_type": "code",
   "execution_count": null,
   "id": "98b782db-f213-4aff-85ad-6b712feed0b3",
   "metadata": {},
   "outputs": [],
   "source": [
    "fig = make_subplots(rows=1, cols=1)\n",
    "\n",
    "for day in df.date.unique():\n",
    "    fig.append_trace(\n",
    "        go.Box(y=df[df.date == day].price, name = f'Precio en dia {day}'),\n",
    "        row=1, col=1\n",
    "    )\n",
    "\n",
    "fig.update_layout(\n",
    "    autosize=True,\n",
    "    width=1000, height=800,\n",
    "    margin=dict(\n",
    "        l=50,\n",
    "        r=100,\n",
    "        b=50,\n",
    "        t=50,\n",
    "        pad=4\n",
    "    ),\n",
    "    paper_bgcolor=\"LightSteelBlue\",\n",
    ")"
   ]
  },
  {
   "cell_type": "markdown",
   "id": "0d9f17b2-cac5-48cd-8b95-085dcfed21a0",
   "metadata": {},
   "source": [
    "Si bien se esperaba encontrar una diferencia notable en el precio del vuelo segun el dia, podemos dar cuenta que no es asi"
   ]
  },
  {
   "cell_type": "markdown",
   "id": "bc3ec5bd-b7ab-4a84-b300-caefa0ad2a42",
   "metadata": {},
   "source": [
    "## Pregunta 5"
   ]
  },
  {
   "cell_type": "markdown",
   "id": "14f9b881-e4ea-4c8a-b50c-a4eaa73ff6aa",
   "metadata": {},
   "source": [
    "Realiza las transformaciones necesarias para realizar el modelamiento posterior y crea las variables que estimes convenientes con ayuda del análisis previo y la\n",
    "expertise del negocio.\n",
    "- La mayoria de las transformaciones necesarias ya han sido llevadas a cabo\n",
    "- Se convertiran en one hot las columnas que requieran serlo"
   ]
  },
  {
   "cell_type": "code",
   "execution_count": null,
   "id": "8b539ca2-9ac9-4b66-bf37-0285b3dece6b",
   "metadata": {},
   "outputs": [],
   "source": [
    "df_dummy = df.copy()\n",
    "for col in ['date', 'ch_code', 'from', 'to', 'dep_timeday', 'arr_timeday']:\n",
    "    one_hot = pd.get_dummies(df_dummy[col], prefix=col.lower())\n",
    "    df_dummy = df_dummy.drop(columns=col)\n",
    "    df_dummy= df_dummy.join(one_hot)\n",
    "df_dummy.head()"
   ]
  },
  {
   "cell_type": "markdown",
   "id": "3ba37d19-38a2-4d2c-82d6-55af45f3abb8",
   "metadata": {},
   "source": [
    "## Pregunta 6"
   ]
  },
  {
   "cell_type": "markdown",
   "id": "385a608e-e946-4e2f-bb35-6ce08351cb8d",
   "metadata": {},
   "source": [
    "Genera una función que encapsule el tratamiento de datos necesario, para entregar un dataset limpio y procesado a partir del dataset original."
   ]
  },
  {
   "cell_type": "code",
   "execution_count": null,
   "id": "f738846c-2b32-4610-9542-49870e998e45",
   "metadata": {},
   "outputs": [],
   "source": [
    "def normalize_data(df):\n",
    "    def categorizar_hora(hora):\n",
    "        if hora >= pd.to_datetime('00:00:00').time() and hora < pd.to_datetime('06:00:00').time():\n",
    "            return 'madrugada'\n",
    "        elif hora >= pd.to_datetime('06:00:00').time() and hora < pd.to_datetime('12:00:00').time():\n",
    "            return 'manana'\n",
    "        elif hora >= pd.to_datetime('12:00:00').time() and hora < pd.to_datetime('18:00:00').time():\n",
    "            return 'tarde'\n",
    "        else:\n",
    "            return 'noche'\n",
    "        \n",
    "    def drop_outliers_IQR(df):\n",
    "       q1=df.quantile(0.25)\n",
    "       q3=df.quantile(0.75)\n",
    "       IQR=q3-q1\n",
    "       not_outliers = df[~((df<(q1-1.5*IQR)) | (df>(q3+1.5*IQR)))]\n",
    "       return not_outliers\n",
    "\n",
    "    df.drop(columns=['num_code', 'airline'], inplace=True)\n",
    "    df.stop = df.stop.apply(lambda x: 0 if x == 'non-stop' else int(x[0]))\n",
    "    df.date = df.date.apply(lambda x: x.date().strftime(\"%A\"))\n",
    "    df['hours'] = df.time_taken.apply(lambda x: x[:x.index('h')])\n",
    "    df['minutes'] = df.time_taken.apply(lambda x: x[x.index('h')+1:x.index('m')])\n",
    "    df.time_taken = df.hours.apply(lambda x: int(float(x)*60) if x.strip() != '' else 0) + \\\n",
    "        df.minutes.apply(lambda x: int(x) if x.strip() != '' else 0)\n",
    "    df['dep_timeday'] = df.dep_time.apply(categorizar_hora)\n",
    "    df['arr_timeday'] = df.arr_time.apply(categorizar_hora)\n",
    "    df.drop(columns=['hours', 'minutes', 'dep_time', 'arr_time'], inplace=True)\n",
    "    \n",
    "    df.price = df.price.apply(lambda x: int(f'{x}'.replace(',', '')))\n",
    "    df['time_taken'] = drop_outliers_IQR(df.time_taken)\n",
    "    df_dummy = df.dropna().copy()\n",
    "    for col in ['date', 'ch_code', 'from', 'to', 'dep_timeday', 'arr_timeday']:\n",
    "        one_hot = pd.get_dummies(df_dummy[col], prefix=col.lower())\n",
    "        df_dummy = df_dummy.drop(columns=col)\n",
    "        df_dummy= df_dummy.join(one_hot)\n",
    "    return df_dummy\n",
    "df = normalize_data(df)"
   ]
  },
  {
   "cell_type": "code",
   "execution_count": null,
   "id": "7d8d98da-42a3-4401-8f3f-eb524395a9b7",
   "metadata": {},
   "outputs": [],
   "source": [
    "df_dummy = df"
   ]
  },
  {
   "cell_type": "markdown",
   "id": "92c46130-68b8-4ff2-bdb8-d4d342742d30",
   "metadata": {},
   "source": [
    "## Pregunta 7"
   ]
  },
  {
   "cell_type": "markdown",
   "id": "a4e920b0-d84b-416a-a902-6fa19b25571e",
   "metadata": {},
   "source": [
    "Elige al menos 3 modelos candidatos para resolver el problema. A partir de esto, genera un conjunto de entrenamiento y prueba, para luego entrenar los diferentes\n",
    "modelos."
   ]
  },
  {
   "cell_type": "code",
   "execution_count": null,
   "id": "567a0187-e648-47c4-ac62-68255e3e12b6",
   "metadata": {},
   "outputs": [],
   "source": [
    "from sklearn.model_selection import GridSearchCV, train_test_split\n",
    "x = df_dummy[list(set(df_dummy.columns)-set(['price']))]\n",
    "y = df_dummy['price']\n",
    "X_train, X_test, y_train, y_test = train_test_split(x, y, test_size=0.2, random_state=21)"
   ]
  },
  {
   "cell_type": "markdown",
   "id": "6a09c210-f98f-4d49-afa5-490b66f16333",
   "metadata": {},
   "source": [
    "## Pregunta 8"
   ]
  },
  {
   "cell_type": "markdown",
   "id": "1f2381d4-cc76-4cd7-8f76-0cb71b1ae230",
   "metadata": {},
   "source": [
    "Elige una grilla de hiperparametros y luego optimízalos, buscando la mejor combinación para cada grilla. Guardar los modelos entrenados."
   ]
  },
  {
   "cell_type": "markdown",
   "id": "59fda926-0fe8-4e56-8c6b-0e16e4dd01e7",
   "metadata": {},
   "source": [
    "Para esto usaremos regresion lineal ridge , un arbol de regresion y random forest para regresion"
   ]
  },
  {
   "cell_type": "code",
   "execution_count": null,
   "id": "776db79f-77e7-43a3-8866-6d544fda57c2",
   "metadata": {},
   "outputs": [],
   "source": [
    "from sklearn.linear_model import Ridge"
   ]
  },
  {
   "cell_type": "code",
   "execution_count": null,
   "id": "4f540ec5-2540-4e65-9eed-4dc2aab34fda",
   "metadata": {},
   "outputs": [],
   "source": [
    "param_grid = {\n",
    "    'alpha': [0.1, 0.5, 1.0, 5, 10],\n",
    "    'solver': ['auto', 'svd', 'cholesky', 'sparse_cg', 'sag', 'saga'],\n",
    "}\n",
    "ridge_model = Ridge()\n",
    "\n",
    "# Realizar la búsqueda de hiperparámetros utilizando validación cruzada\n",
    "grid_search_ridge = GridSearchCV(ridge_model, param_grid, cv=10, verbose=1)\n",
    "grid_search_ridge.fit(X_train, y_train)\n",
    "# Obtener los resultados de la búsqueda\n",
    "best_params_ridge = grid_search_ridge.best_params_\n",
    "best_score_ridge = grid_search_ridge.best_score_\n",
    "print(\"Mejores hiperparámetros:\", best_params_ridge)\n",
    "print(\"Precisión con los mejores hiperparámetros:\", best_score_ridge)\n",
    "grid_search_ridge.best_estimator_"
   ]
  },
  {
   "cell_type": "code",
   "execution_count": null,
   "id": "37843bf5-3c32-4d38-a5ba-ad38c73981a1",
   "metadata": {},
   "outputs": [],
   "source": [
    "from sklearn.tree import DecisionTreeRegressor"
   ]
  },
  {
   "cell_type": "code",
   "execution_count": null,
   "id": "8c6c4f21-2691-424f-a4a1-5d4a1c2b739d",
   "metadata": {},
   "outputs": [],
   "source": [
    "param_grid = {\n",
    "    'random_state': [0],\n",
    "    'max_depth': [5, 10, 30, 100, 200],\n",
    "    'criterion': [\"squared_error\", \"absolute_error\", \"poisson\"],\n",
    "    'min_samples_split': [15, 20]\n",
    "}\n",
    "dtr_model = DecisionTreeRegressor(random_state=0)\n",
    "\n",
    "# Realizar la búsqueda de hiperparámetros utilizando validación cruzada\n",
    "grid_search_dtr = GridSearchCV(dtr_model, param_grid, cv=10, verbose=1)\n",
    "grid_search_dtr.fit(X_train, y_train)\n",
    "# Obtener los resultados de la búsqueda\n",
    "best_params_dtr = grid_search_dtr.best_params_\n",
    "best_score_dtr = grid_search_dtr.best_score_\n",
    "print(\"Mejores hiperparámetros:\", best_params_dtr)\n",
    "print(\"Precisión con los mejores hiperparámetros:\", best_score_dtr)\n",
    "grid_search_dtr.best_estimator_"
   ]
  },
  {
   "cell_type": "code",
   "execution_count": null,
   "id": "d56f91cc-6b15-4d7a-826b-1bf13963e660",
   "metadata": {},
   "outputs": [],
   "source": [
    "from sklearn.ensemble import RandomForestRegressor"
   ]
  },
  {
   "cell_type": "code",
   "execution_count": null,
   "id": "86e669ed-0888-4ec8-978c-82752c5c2ca8",
   "metadata": {},
   "outputs": [],
   "source": [
    "param_grid = {\n",
    "    'n_estimators': [50, 100, 300 ],\n",
    "    'criterion': [\"squared_error\", \"absolute_error\", \"poisson\"],\n",
    "    'max_depth': [5, 10, 30, 100, 200],\n",
    "    'min_samples_split': [15, 20]\n",
    "}\n",
    "rf_model = RandomForestRegressor(random_state=0)\n",
    "\n",
    "# Realizar la búsqueda de hiperparámetros utilizando validación cruzada\n",
    "grid_search_rf = GridSearchCV(rf_model, param_grid, cv=10, verbose=1)\n",
    "grid_search_rf.fit(X_train, y_train)\n",
    "# Obtener los resultados de la búsqueda\n",
    "best_params_rf = grid_search_rf.best_params_\n",
    "best_score_rf = grid_search_rf.best_score_\n",
    "print(\"Mejores hiperparámetros:\", best_params_rf)\n",
    "print(\"Precisión con los mejores hiperparámetros:\", best_score_rf)\n",
    "grid_search_rf.best_estimator_"
   ]
  },
  {
   "cell_type": "markdown",
   "id": "35fe5f07-f934-496c-b7ef-53aba85d4ce5",
   "metadata": {},
   "source": [
    "## Pregunta 9"
   ]
  },
  {
   "cell_type": "markdown",
   "id": "e691b629-63eb-43d1-baf3-935d8186f935",
   "metadata": {},
   "source": [
    "Define al menos 3 métricas para evaluar los modelos entrenados y genera gráficos de comparación. Elige un baseline para ver qué tan buena es tu opción respecto a\n",
    "ese baseline y concluye."
   ]
  },
  {
   "cell_type": "code",
   "execution_count": null,
   "id": "a22c3f2c-8042-46fe-a267-c7294d783d3f",
   "metadata": {},
   "outputs": [],
   "source": [
    "print(f\"MSE: {mse:.2f}\")\n",
    "print(f\"RMSE: {rmse:.2f}\")\n",
    "print(f\"MAE: {mae:.2f}\")"
   ]
  },
  {
   "cell_type": "markdown",
   "id": "c5672ab3-3982-4678-be5c-258264a34236",
   "metadata": {},
   "source": [
    "## Pregunta 10"
   ]
  },
  {
   "cell_type": "markdown",
   "id": "e465b309-d844-41c7-af9e-0f867b0175be",
   "metadata": {},
   "source": [
    "Genera una conclusión final respecto a qué tan útiles son los resultados encontrados para resolver el problema propuesto y define cuáles podrían ser los próximos pasos\n",
    "para el proyecto."
   ]
  },
  {
   "cell_type": "code",
   "execution_count": null,
   "id": "2c2970bc-69ac-4d19-b963-bfadf02cd724",
   "metadata": {},
   "outputs": [],
   "source": []
  }
 ],
 "metadata": {
  "kernelspec": {
   "display_name": "Python 3 (ipykernel)",
   "language": "python",
   "name": "python3"
  },
  "language_info": {
   "codemirror_mode": {
    "name": "ipython",
    "version": 3
   },
   "file_extension": ".py",
   "mimetype": "text/x-python",
   "name": "python",
   "nbconvert_exporter": "python",
   "pygments_lexer": "ipython3",
   "version": "3.11.6"
  }
 },
 "nbformat": 4,
 "nbformat_minor": 5
}
